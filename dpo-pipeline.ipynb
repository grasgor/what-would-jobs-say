{
 "cells": [
  {
   "cell_type": "markdown",
   "metadata": {},
   "source": [
    "## Setup"
   ]
  },
  {
   "cell_type": "code",
   "execution_count": 1,
   "metadata": {
    "_cell_guid": "b1076dfc-b9ad-4769-8c92-a6c4dae69d19",
    "_uuid": "8f2839f25d086af736a60e9eeb907d3b93b6e0e5",
    "execution": {
     "iopub.execute_input": "2025-10-27T13:20:06.095178Z",
     "iopub.status.busy": "2025-10-27T13:20:06.094958Z",
     "iopub.status.idle": "2025-10-27T13:21:55.896386Z",
     "shell.execute_reply": "2025-10-27T13:21:55.895632Z",
     "shell.execute_reply.started": "2025-10-27T13:20:06.095162Z"
    },
    "scrolled": true,
    "trusted": true
   },
   "outputs": [
    {
     "name": "stdout",
     "output_type": "stream",
     "text": [
      "Requirement already satisfied: transformers in /usr/local/lib/python3.11/dist-packages (4.53.3)\n",
      "Collecting transformers\n",
      "  Downloading transformers-4.57.1-py3-none-any.whl.metadata (43 kB)\n",
      "\u001b[2K     \u001b[90m━━━━━━━━━━━━━━━━━━━━━━━━━━━━━━━━━━━━━━━━\u001b[0m \u001b[32m44.0/44.0 kB\u001b[0m \u001b[31m2.1 MB/s\u001b[0m eta \u001b[36m0:00:00\u001b[0m\n",
      "\u001b[?25hRequirement already satisfied: datasets in /usr/local/lib/python3.11/dist-packages (4.1.1)\n",
      "Collecting datasets\n",
      "  Downloading datasets-4.3.0-py3-none-any.whl.metadata (18 kB)\n",
      "Requirement already satisfied: accelerate in /usr/local/lib/python3.11/dist-packages (1.9.0)\n",
      "Collecting accelerate\n",
      "  Downloading accelerate-1.11.0-py3-none-any.whl.metadata (19 kB)\n",
      "Collecting bitsandbytes\n",
      "  Downloading bitsandbytes-0.48.1-py3-none-manylinux_2_24_x86_64.whl.metadata (10 kB)\n",
      "Collecting trl\n",
      "  Downloading trl-0.24.0-py3-none-any.whl.metadata (11 kB)\n",
      "Requirement already satisfied: filelock in /usr/local/lib/python3.11/dist-packages (from transformers) (3.19.1)\n",
      "Collecting huggingface-hub<1.0,>=0.34.0 (from transformers)\n",
      "  Downloading huggingface_hub-0.36.0-py3-none-any.whl.metadata (14 kB)\n",
      "Requirement already satisfied: numpy>=1.17 in /usr/local/lib/python3.11/dist-packages (from transformers) (1.26.4)\n",
      "Requirement already satisfied: packaging>=20.0 in /usr/local/lib/python3.11/dist-packages (from transformers) (25.0)\n",
      "Requirement already satisfied: pyyaml>=5.1 in /usr/local/lib/python3.11/dist-packages (from transformers) (6.0.3)\n",
      "Requirement already satisfied: regex!=2019.12.17 in /usr/local/lib/python3.11/dist-packages (from transformers) (2025.9.18)\n",
      "Requirement already satisfied: requests in /usr/local/lib/python3.11/dist-packages (from transformers) (2.32.5)\n",
      "Collecting tokenizers<=0.23.0,>=0.22.0 (from transformers)\n",
      "  Downloading tokenizers-0.22.1-cp39-abi3-manylinux_2_17_x86_64.manylinux2014_x86_64.whl.metadata (6.8 kB)\n",
      "Requirement already satisfied: safetensors>=0.4.3 in /usr/local/lib/python3.11/dist-packages (from transformers) (0.5.3)\n",
      "Requirement already satisfied: tqdm>=4.27 in /usr/local/lib/python3.11/dist-packages (from transformers) (4.67.1)\n",
      "Collecting pyarrow>=21.0.0 (from datasets)\n",
      "  Downloading pyarrow-22.0.0-cp311-cp311-manylinux_2_28_x86_64.whl.metadata (3.2 kB)\n",
      "Requirement already satisfied: dill<0.4.1,>=0.3.0 in /usr/local/lib/python3.11/dist-packages (from datasets) (0.4.0)\n",
      "Requirement already satisfied: pandas in /usr/local/lib/python3.11/dist-packages (from datasets) (2.2.3)\n",
      "Requirement already satisfied: httpx<1.0.0 in /usr/local/lib/python3.11/dist-packages (from datasets) (0.28.1)\n",
      "Requirement already satisfied: xxhash in /usr/local/lib/python3.11/dist-packages (from datasets) (3.5.0)\n",
      "Requirement already satisfied: multiprocess<0.70.17 in /usr/local/lib/python3.11/dist-packages (from datasets) (0.70.16)\n",
      "Requirement already satisfied: fsspec<=2025.9.0,>=2023.1.0 in /usr/local/lib/python3.11/dist-packages (from fsspec[http]<=2025.9.0,>=2023.1.0->datasets) (2025.9.0)\n",
      "Requirement already satisfied: psutil in /usr/local/lib/python3.11/dist-packages (from accelerate) (7.1.0)\n",
      "Requirement already satisfied: torch>=2.0.0 in /usr/local/lib/python3.11/dist-packages (from accelerate) (2.6.0+cu124)\n",
      "Requirement already satisfied: aiohttp!=4.0.0a0,!=4.0.0a1 in /usr/local/lib/python3.11/dist-packages (from fsspec[http]<=2025.9.0,>=2023.1.0->datasets) (3.12.15)\n",
      "Requirement already satisfied: anyio in /usr/local/lib/python3.11/dist-packages (from httpx<1.0.0->datasets) (4.11.0)\n",
      "Requirement already satisfied: certifi in /usr/local/lib/python3.11/dist-packages (from httpx<1.0.0->datasets) (2025.8.3)\n",
      "Requirement already satisfied: httpcore==1.* in /usr/local/lib/python3.11/dist-packages (from httpx<1.0.0->datasets) (1.0.9)\n",
      "Requirement already satisfied: idna in /usr/local/lib/python3.11/dist-packages (from httpx<1.0.0->datasets) (3.10)\n",
      "Requirement already satisfied: h11>=0.16 in /usr/local/lib/python3.11/dist-packages (from httpcore==1.*->httpx<1.0.0->datasets) (0.16.0)\n",
      "Requirement already satisfied: typing-extensions>=3.7.4.3 in /usr/local/lib/python3.11/dist-packages (from huggingface-hub<1.0,>=0.34.0->transformers) (4.15.0)\n",
      "Requirement already satisfied: hf-xet<2.0.0,>=1.1.3 in /usr/local/lib/python3.11/dist-packages (from huggingface-hub<1.0,>=0.34.0->transformers) (1.1.10)\n",
      "Requirement already satisfied: mkl_fft in /usr/local/lib/python3.11/dist-packages (from numpy>=1.17->transformers) (1.3.8)\n",
      "Requirement already satisfied: mkl_random in /usr/local/lib/python3.11/dist-packages (from numpy>=1.17->transformers) (1.2.4)\n",
      "Requirement already satisfied: mkl_umath in /usr/local/lib/python3.11/dist-packages (from numpy>=1.17->transformers) (0.1.1)\n",
      "Requirement already satisfied: mkl in /usr/local/lib/python3.11/dist-packages (from numpy>=1.17->transformers) (2025.2.0)\n",
      "Requirement already satisfied: tbb4py in /usr/local/lib/python3.11/dist-packages (from numpy>=1.17->transformers) (2022.2.0)\n",
      "Requirement already satisfied: mkl-service in /usr/local/lib/python3.11/dist-packages (from numpy>=1.17->transformers) (2.4.1)\n",
      "Requirement already satisfied: charset_normalizer<4,>=2 in /usr/local/lib/python3.11/dist-packages (from requests->transformers) (3.4.3)\n",
      "Requirement already satisfied: urllib3<3,>=1.21.1 in /usr/local/lib/python3.11/dist-packages (from requests->transformers) (2.5.0)\n",
      "Requirement already satisfied: networkx in /usr/local/lib/python3.11/dist-packages (from torch>=2.0.0->accelerate) (3.5)\n",
      "Requirement already satisfied: jinja2 in /usr/local/lib/python3.11/dist-packages (from torch>=2.0.0->accelerate) (3.1.6)\n",
      "Collecting nvidia-cuda-nvrtc-cu12==12.4.127 (from torch>=2.0.0->accelerate)\n",
      "  Downloading nvidia_cuda_nvrtc_cu12-12.4.127-py3-none-manylinux2014_x86_64.whl.metadata (1.5 kB)\n",
      "Collecting nvidia-cuda-runtime-cu12==12.4.127 (from torch>=2.0.0->accelerate)\n",
      "  Downloading nvidia_cuda_runtime_cu12-12.4.127-py3-none-manylinux2014_x86_64.whl.metadata (1.5 kB)\n",
      "Collecting nvidia-cuda-cupti-cu12==12.4.127 (from torch>=2.0.0->accelerate)\n",
      "  Downloading nvidia_cuda_cupti_cu12-12.4.127-py3-none-manylinux2014_x86_64.whl.metadata (1.6 kB)\n",
      "Collecting nvidia-cudnn-cu12==9.1.0.70 (from torch>=2.0.0->accelerate)\n",
      "  Downloading nvidia_cudnn_cu12-9.1.0.70-py3-none-manylinux2014_x86_64.whl.metadata (1.6 kB)\n",
      "Collecting nvidia-cublas-cu12==12.4.5.8 (from torch>=2.0.0->accelerate)\n",
      "  Downloading nvidia_cublas_cu12-12.4.5.8-py3-none-manylinux2014_x86_64.whl.metadata (1.5 kB)\n",
      "Collecting nvidia-cufft-cu12==11.2.1.3 (from torch>=2.0.0->accelerate)\n",
      "  Downloading nvidia_cufft_cu12-11.2.1.3-py3-none-manylinux2014_x86_64.whl.metadata (1.5 kB)\n",
      "Collecting nvidia-curand-cu12==10.3.5.147 (from torch>=2.0.0->accelerate)\n",
      "  Downloading nvidia_curand_cu12-10.3.5.147-py3-none-manylinux2014_x86_64.whl.metadata (1.5 kB)\n",
      "Collecting nvidia-cusolver-cu12==11.6.1.9 (from torch>=2.0.0->accelerate)\n",
      "  Downloading nvidia_cusolver_cu12-11.6.1.9-py3-none-manylinux2014_x86_64.whl.metadata (1.6 kB)\n",
      "Collecting nvidia-cusparse-cu12==12.3.1.170 (from torch>=2.0.0->accelerate)\n",
      "  Downloading nvidia_cusparse_cu12-12.3.1.170-py3-none-manylinux2014_x86_64.whl.metadata (1.6 kB)\n",
      "Requirement already satisfied: nvidia-cusparselt-cu12==0.6.2 in /usr/local/lib/python3.11/dist-packages (from torch>=2.0.0->accelerate) (0.6.2)\n",
      "Requirement already satisfied: nvidia-nccl-cu12==2.21.5 in /usr/local/lib/python3.11/dist-packages (from torch>=2.0.0->accelerate) (2.21.5)\n",
      "Requirement already satisfied: nvidia-nvtx-cu12==12.4.127 in /usr/local/lib/python3.11/dist-packages (from torch>=2.0.0->accelerate) (12.4.127)\n",
      "Collecting nvidia-nvjitlink-cu12==12.4.127 (from torch>=2.0.0->accelerate)\n",
      "  Downloading nvidia_nvjitlink_cu12-12.4.127-py3-none-manylinux2014_x86_64.whl.metadata (1.5 kB)\n",
      "Requirement already satisfied: triton==3.2.0 in /usr/local/lib/python3.11/dist-packages (from torch>=2.0.0->accelerate) (3.2.0)\n",
      "Requirement already satisfied: sympy==1.13.1 in /usr/local/lib/python3.11/dist-packages (from torch>=2.0.0->accelerate) (1.13.1)\n",
      "Requirement already satisfied: mpmath<1.4,>=1.1.0 in /usr/local/lib/python3.11/dist-packages (from sympy==1.13.1->torch>=2.0.0->accelerate) (1.3.0)\n",
      "Requirement already satisfied: python-dateutil>=2.8.2 in /usr/local/lib/python3.11/dist-packages (from pandas->datasets) (2.9.0.post0)\n",
      "Requirement already satisfied: pytz>=2020.1 in /usr/local/lib/python3.11/dist-packages (from pandas->datasets) (2025.2)\n",
      "Requirement already satisfied: tzdata>=2022.7 in /usr/local/lib/python3.11/dist-packages (from pandas->datasets) (2025.2)\n",
      "Requirement already satisfied: aiohappyeyeballs>=2.5.0 in /usr/local/lib/python3.11/dist-packages (from aiohttp!=4.0.0a0,!=4.0.0a1->fsspec[http]<=2025.9.0,>=2023.1.0->datasets) (2.6.1)\n",
      "Requirement already satisfied: aiosignal>=1.4.0 in /usr/local/lib/python3.11/dist-packages (from aiohttp!=4.0.0a0,!=4.0.0a1->fsspec[http]<=2025.9.0,>=2023.1.0->datasets) (1.4.0)\n",
      "Requirement already satisfied: attrs>=17.3.0 in /usr/local/lib/python3.11/dist-packages (from aiohttp!=4.0.0a0,!=4.0.0a1->fsspec[http]<=2025.9.0,>=2023.1.0->datasets) (25.3.0)\n",
      "Requirement already satisfied: frozenlist>=1.1.1 in /usr/local/lib/python3.11/dist-packages (from aiohttp!=4.0.0a0,!=4.0.0a1->fsspec[http]<=2025.9.0,>=2023.1.0->datasets) (1.7.0)\n",
      "Requirement already satisfied: multidict<7.0,>=4.5 in /usr/local/lib/python3.11/dist-packages (from aiohttp!=4.0.0a0,!=4.0.0a1->fsspec[http]<=2025.9.0,>=2023.1.0->datasets) (6.6.4)\n",
      "Requirement already satisfied: propcache>=0.2.0 in /usr/local/lib/python3.11/dist-packages (from aiohttp!=4.0.0a0,!=4.0.0a1->fsspec[http]<=2025.9.0,>=2023.1.0->datasets) (0.3.2)\n",
      "Requirement already satisfied: yarl<2.0,>=1.17.0 in /usr/local/lib/python3.11/dist-packages (from aiohttp!=4.0.0a0,!=4.0.0a1->fsspec[http]<=2025.9.0,>=2023.1.0->datasets) (1.20.1)\n",
      "Requirement already satisfied: six>=1.5 in /usr/local/lib/python3.11/dist-packages (from python-dateutil>=2.8.2->pandas->datasets) (1.17.0)\n",
      "Requirement already satisfied: sniffio>=1.1 in /usr/local/lib/python3.11/dist-packages (from anyio->httpx<1.0.0->datasets) (1.3.1)\n",
      "Requirement already satisfied: MarkupSafe>=2.0 in /usr/local/lib/python3.11/dist-packages (from jinja2->torch>=2.0.0->accelerate) (3.0.2)\n",
      "Requirement already satisfied: intel-openmp<2026,>=2024 in /usr/local/lib/python3.11/dist-packages (from mkl->numpy>=1.17->transformers) (2024.2.0)\n",
      "Requirement already satisfied: tbb==2022.* in /usr/local/lib/python3.11/dist-packages (from mkl->numpy>=1.17->transformers) (2022.2.0)\n",
      "Requirement already satisfied: tcmlib==1.* in /usr/local/lib/python3.11/dist-packages (from tbb==2022.*->mkl->numpy>=1.17->transformers) (1.4.0)\n",
      "Requirement already satisfied: intel-cmplr-lib-rt in /usr/local/lib/python3.11/dist-packages (from mkl_umath->numpy>=1.17->transformers) (2024.2.0)\n",
      "Requirement already satisfied: intel-cmplr-lib-ur==2024.2.0 in /usr/local/lib/python3.11/dist-packages (from intel-openmp<2026,>=2024->mkl->numpy>=1.17->transformers) (2024.2.0)\n",
      "Downloading transformers-4.57.1-py3-none-any.whl (12.0 MB)\n",
      "\u001b[2K   \u001b[90m━━━━━━━━━━━━━━━━━━━━━━━━━━━━━━━━━━━━━━━━\u001b[0m \u001b[32m12.0/12.0 MB\u001b[0m \u001b[31m31.1 MB/s\u001b[0m eta \u001b[36m0:00:00\u001b[0m00:01\u001b[0m00:01\u001b[0m\n",
      "\u001b[?25hDownloading datasets-4.3.0-py3-none-any.whl (506 kB)\n",
      "\u001b[2K   \u001b[90m━━━━━━━━━━━━━━━━━━━━━━━━━━━━━━━━━━━━━━━━\u001b[0m \u001b[32m506.8/506.8 kB\u001b[0m \u001b[31m19.2 MB/s\u001b[0m eta \u001b[36m0:00:00\u001b[0m\n",
      "\u001b[?25hDownloading accelerate-1.11.0-py3-none-any.whl (375 kB)\n",
      "\u001b[2K   \u001b[90m━━━━━━━━━━━━━━━━━━━━━━━━━━━━━━━━━━━━━━━━\u001b[0m \u001b[32m375.8/375.8 kB\u001b[0m \u001b[31m18.3 MB/s\u001b[0m eta \u001b[36m0:00:00\u001b[0m\n",
      "\u001b[?25hDownloading bitsandbytes-0.48.1-py3-none-manylinux_2_24_x86_64.whl (60.1 MB)\n",
      "\u001b[2K   \u001b[90m━━━━━━━━━━━━━━━━━━━━━━━━━━━━━━━━━━━━━━━━\u001b[0m \u001b[32m60.1/60.1 MB\u001b[0m \u001b[31m20.1 MB/s\u001b[0m eta \u001b[36m0:00:00\u001b[0m00:01\u001b[0m00:01\u001b[0m\n",
      "\u001b[?25hDownloading trl-0.24.0-py3-none-any.whl (423 kB)\n",
      "\u001b[2K   \u001b[90m━━━━━━━━━━━━━━━━━━━━━━━━━━━━━━━━━━━━━━━━\u001b[0m \u001b[32m423.1/423.1 kB\u001b[0m \u001b[31m23.5 MB/s\u001b[0m eta \u001b[36m0:00:00\u001b[0m\n",
      "\u001b[?25hDownloading huggingface_hub-0.36.0-py3-none-any.whl (566 kB)\n",
      "\u001b[2K   \u001b[90m━━━━━━━━━━━━━━━━━━━━━━━━━━━━━━━━━━━━━━━━\u001b[0m \u001b[32m566.1/566.1 kB\u001b[0m \u001b[31m23.6 MB/s\u001b[0m eta \u001b[36m0:00:00\u001b[0m\n",
      "\u001b[?25hDownloading pyarrow-22.0.0-cp311-cp311-manylinux_2_28_x86_64.whl (47.7 MB)\n",
      "\u001b[2K   \u001b[90m━━━━━━━━━━━━━━━━━━━━━━━━━━━━━━━━━━━━━━━━\u001b[0m \u001b[32m47.7/47.7 MB\u001b[0m \u001b[31m22.1 MB/s\u001b[0m eta \u001b[36m0:00:00\u001b[0m00:01\u001b[0m00:01\u001b[0m\n",
      "\u001b[?25hDownloading tokenizers-0.22.1-cp39-abi3-manylinux_2_17_x86_64.manylinux2014_x86_64.whl (3.3 MB)\n",
      "\u001b[2K   \u001b[90m━━━━━━━━━━━━━━━━━━━━━━━━━━━━━━━━━━━━━━━━\u001b[0m \u001b[32m3.3/3.3 MB\u001b[0m \u001b[31m33.0 MB/s\u001b[0m eta \u001b[36m0:00:00\u001b[0ma \u001b[36m0:00:01\u001b[0m\n",
      "\u001b[?25hDownloading nvidia_cublas_cu12-12.4.5.8-py3-none-manylinux2014_x86_64.whl (363.4 MB)\n",
      "\u001b[2K   \u001b[90m━━━━━━━━━━━━━━━━━━━━━━━━━━━━━━━━━━━━━━━━\u001b[0m \u001b[32m363.4/363.4 MB\u001b[0m \u001b[31m4.5 MB/s\u001b[0m eta \u001b[36m0:00:00\u001b[0m:00:01\u001b[0m00:01\u001b[0m\n",
      "\u001b[?25hDownloading nvidia_cuda_cupti_cu12-12.4.127-py3-none-manylinux2014_x86_64.whl (13.8 MB)\n",
      "\u001b[2K   \u001b[90m━━━━━━━━━━━━━━━━━━━━━━━━━━━━━━━━━━━━━━━━\u001b[0m \u001b[32m13.8/13.8 MB\u001b[0m \u001b[31m51.2 MB/s\u001b[0m eta \u001b[36m0:00:00\u001b[0m00:01\u001b[0m00:01\u001b[0m\n",
      "\u001b[?25hDownloading nvidia_cuda_nvrtc_cu12-12.4.127-py3-none-manylinux2014_x86_64.whl (24.6 MB)\n",
      "\u001b[2K   \u001b[90m━━━━━━━━━━━━━━━━━━━━━━━━━━━━━━━━━━━━━━━━\u001b[0m \u001b[32m24.6/24.6 MB\u001b[0m \u001b[31m45.0 MB/s\u001b[0m eta \u001b[36m0:00:00\u001b[0m00:01\u001b[0m00:01\u001b[0m\n",
      "\u001b[?25hDownloading nvidia_cuda_runtime_cu12-12.4.127-py3-none-manylinux2014_x86_64.whl (883 kB)\n",
      "\u001b[2K   \u001b[90m━━━━━━━━━━━━━━━━━━━━━━━━━━━━━━━━━━━━━━━━\u001b[0m \u001b[32m883.7/883.7 kB\u001b[0m \u001b[31m35.9 MB/s\u001b[0m eta \u001b[36m0:00:00\u001b[0m\n",
      "\u001b[?25hDownloading nvidia_cudnn_cu12-9.1.0.70-py3-none-manylinux2014_x86_64.whl (664.8 MB)\n",
      "\u001b[2K   \u001b[90m━━━━━━━━━━━━━━━━━━━━━━━━━━━━━━━━━━━━━━━━\u001b[0m \u001b[32m664.8/664.8 MB\u001b[0m \u001b[31m2.4 MB/s\u001b[0m eta \u001b[36m0:00:00\u001b[0m:00:01\u001b[0m00:01\u001b[0m\n",
      "\u001b[?25hDownloading nvidia_cufft_cu12-11.2.1.3-py3-none-manylinux2014_x86_64.whl (211.5 MB)\n",
      "\u001b[2K   \u001b[90m━━━━━━━━━━━━━━━━━━━━━━━━━━━━━━━━━━━━━━━━\u001b[0m \u001b[32m211.5/211.5 MB\u001b[0m \u001b[31m6.1 MB/s\u001b[0m eta \u001b[36m0:00:00\u001b[0m:00:01\u001b[0m00:01\u001b[0m\n",
      "\u001b[?25hDownloading nvidia_curand_cu12-10.3.5.147-py3-none-manylinux2014_x86_64.whl (56.3 MB)\n",
      "\u001b[2K   \u001b[90m━━━━━━━━━━━━━━━━━━━━━━━━━━━━━━━━━━━━━━━━\u001b[0m \u001b[32m56.3/56.3 MB\u001b[0m \u001b[31m23.9 MB/s\u001b[0m eta \u001b[36m0:00:00\u001b[0m00:01\u001b[0m00:01\u001b[0m\n",
      "\u001b[?25hDownloading nvidia_cusolver_cu12-11.6.1.9-py3-none-manylinux2014_x86_64.whl (127.9 MB)\n",
      "\u001b[2K   \u001b[90m━━━━━━━━━━━━━━━━━━━━━━━━━━━━━━━━━━━━━━━━\u001b[0m \u001b[32m127.9/127.9 MB\u001b[0m \u001b[31m2.1 MB/s\u001b[0m eta \u001b[36m0:00:00\u001b[0m:00:01\u001b[0m00:01\u001b[0m\n",
      "\u001b[?25hDownloading nvidia_cusparse_cu12-12.3.1.170-py3-none-manylinux2014_x86_64.whl (207.5 MB)\n",
      "\u001b[2K   \u001b[90m━━━━━━━━━━━━━━━━━━━━━━━━━━━━━━━━━━━━━━━━\u001b[0m \u001b[32m207.5/207.5 MB\u001b[0m \u001b[31m7.5 MB/s\u001b[0m eta \u001b[36m0:00:00\u001b[0m:00:01\u001b[0m00:01\u001b[0m\n",
      "\u001b[?25hDownloading nvidia_nvjitlink_cu12-12.4.127-py3-none-manylinux2014_x86_64.whl (21.1 MB)\n",
      "\u001b[2K   \u001b[90m━━━━━━━━━━━━━━━━━━━━━━━━━━━━━━━━━━━━━━━━\u001b[0m \u001b[32m21.1/21.1 MB\u001b[0m \u001b[31m43.0 MB/s\u001b[0m eta \u001b[36m0:00:00\u001b[0m00:01\u001b[0m00:01\u001b[0m\n",
      "\u001b[?25hInstalling collected packages: pyarrow, nvidia-nvjitlink-cu12, nvidia-curand-cu12, nvidia-cufft-cu12, nvidia-cuda-runtime-cu12, nvidia-cuda-nvrtc-cu12, nvidia-cuda-cupti-cu12, nvidia-cublas-cu12, nvidia-cusparse-cu12, nvidia-cudnn-cu12, huggingface-hub, tokenizers, nvidia-cusolver-cu12, transformers, datasets, accelerate, trl, bitsandbytes\n",
      "  Attempting uninstall: pyarrow\n",
      "    Found existing installation: pyarrow 19.0.1\n",
      "    Uninstalling pyarrow-19.0.1:\n",
      "      Successfully uninstalled pyarrow-19.0.1\n",
      "  Attempting uninstall: nvidia-nvjitlink-cu12\n",
      "    Found existing installation: nvidia-nvjitlink-cu12 12.5.82\n",
      "    Uninstalling nvidia-nvjitlink-cu12-12.5.82:\n",
      "      Successfully uninstalled nvidia-nvjitlink-cu12-12.5.82\n",
      "  Attempting uninstall: nvidia-curand-cu12\n",
      "    Found existing installation: nvidia-curand-cu12 10.3.6.82\n",
      "    Uninstalling nvidia-curand-cu12-10.3.6.82:\n",
      "      Successfully uninstalled nvidia-curand-cu12-10.3.6.82\n",
      "  Attempting uninstall: nvidia-cufft-cu12\n",
      "    Found existing installation: nvidia-cufft-cu12 11.2.3.61\n",
      "    Uninstalling nvidia-cufft-cu12-11.2.3.61:\n",
      "      Successfully uninstalled nvidia-cufft-cu12-11.2.3.61\n",
      "  Attempting uninstall: nvidia-cuda-runtime-cu12\n",
      "    Found existing installation: nvidia-cuda-runtime-cu12 12.5.82\n",
      "    Uninstalling nvidia-cuda-runtime-cu12-12.5.82:\n",
      "      Successfully uninstalled nvidia-cuda-runtime-cu12-12.5.82\n",
      "  Attempting uninstall: nvidia-cuda-nvrtc-cu12\n",
      "    Found existing installation: nvidia-cuda-nvrtc-cu12 12.5.82\n",
      "    Uninstalling nvidia-cuda-nvrtc-cu12-12.5.82:\n",
      "      Successfully uninstalled nvidia-cuda-nvrtc-cu12-12.5.82\n",
      "  Attempting uninstall: nvidia-cuda-cupti-cu12\n",
      "    Found existing installation: nvidia-cuda-cupti-cu12 12.5.82\n",
      "    Uninstalling nvidia-cuda-cupti-cu12-12.5.82:\n",
      "      Successfully uninstalled nvidia-cuda-cupti-cu12-12.5.82\n",
      "  Attempting uninstall: nvidia-cublas-cu12\n",
      "    Found existing installation: nvidia-cublas-cu12 12.5.3.2\n",
      "    Uninstalling nvidia-cublas-cu12-12.5.3.2:\n",
      "      Successfully uninstalled nvidia-cublas-cu12-12.5.3.2\n",
      "  Attempting uninstall: nvidia-cusparse-cu12\n",
      "    Found existing installation: nvidia-cusparse-cu12 12.5.1.3\n",
      "    Uninstalling nvidia-cusparse-cu12-12.5.1.3:\n",
      "      Successfully uninstalled nvidia-cusparse-cu12-12.5.1.3\n",
      "  Attempting uninstall: nvidia-cudnn-cu12\n",
      "    Found existing installation: nvidia-cudnn-cu12 9.3.0.75\n",
      "    Uninstalling nvidia-cudnn-cu12-9.3.0.75:\n",
      "      Successfully uninstalled nvidia-cudnn-cu12-9.3.0.75\n",
      "  Attempting uninstall: huggingface-hub\n",
      "    Found existing installation: huggingface-hub 1.0.0rc2\n",
      "    Uninstalling huggingface-hub-1.0.0rc2:\n",
      "      Successfully uninstalled huggingface-hub-1.0.0rc2\n",
      "  Attempting uninstall: tokenizers\n",
      "    Found existing installation: tokenizers 0.21.2\n",
      "    Uninstalling tokenizers-0.21.2:\n",
      "      Successfully uninstalled tokenizers-0.21.2\n",
      "  Attempting uninstall: nvidia-cusolver-cu12\n",
      "    Found existing installation: nvidia-cusolver-cu12 11.6.3.83\n",
      "    Uninstalling nvidia-cusolver-cu12-11.6.3.83:\n",
      "      Successfully uninstalled nvidia-cusolver-cu12-11.6.3.83\n",
      "  Attempting uninstall: transformers\n",
      "    Found existing installation: transformers 4.53.3\n",
      "    Uninstalling transformers-4.53.3:\n",
      "      Successfully uninstalled transformers-4.53.3\n",
      "  Attempting uninstall: datasets\n",
      "    Found existing installation: datasets 4.1.1\n",
      "    Uninstalling datasets-4.1.1:\n",
      "      Successfully uninstalled datasets-4.1.1\n",
      "  Attempting uninstall: accelerate\n",
      "    Found existing installation: accelerate 1.9.0\n",
      "    Uninstalling accelerate-1.9.0:\n",
      "      Successfully uninstalled accelerate-1.9.0\n",
      "\u001b[31mERROR: pip's dependency resolver does not currently take into account all the packages that are installed. This behaviour is the source of the following dependency conflicts.\n",
      "bigframes 2.12.0 requires google-cloud-bigquery-storage<3.0.0,>=2.30.0, which is not installed.\n",
      "pylibcudf-cu12 25.2.2 requires pyarrow<20.0.0a0,>=14.0.0; platform_machine == \"x86_64\", but you have pyarrow 22.0.0 which is incompatible.\n",
      "cudf-cu12 25.2.2 requires pyarrow<20.0.0a0,>=14.0.0; platform_machine == \"x86_64\", but you have pyarrow 22.0.0 which is incompatible.\n",
      "bigframes 2.12.0 requires google-cloud-bigquery[bqstorage,pandas]>=3.31.0, but you have google-cloud-bigquery 3.25.0 which is incompatible.\n",
      "bigframes 2.12.0 requires rich<14,>=12.4.4, but you have rich 14.1.0 which is incompatible.\n",
      "libcugraph-cu12 25.6.0 requires libraft-cu12==25.6.*, but you have libraft-cu12 25.2.0 which is incompatible.\n",
      "gradio 5.38.1 requires pydantic<2.12,>=2.0, but you have pydantic 2.12.0a1 which is incompatible.\n",
      "cudf-polars-cu12 25.6.0 requires pylibcudf-cu12==25.6.*, but you have pylibcudf-cu12 25.2.2 which is incompatible.\n",
      "pandas-gbq 0.29.2 requires google-api-core<3.0.0,>=2.10.2, but you have google-api-core 1.34.1 which is incompatible.\n",
      "pylibcugraph-cu12 25.6.0 requires pylibraft-cu12==25.6.*, but you have pylibraft-cu12 25.2.0 which is incompatible.\n",
      "pylibcugraph-cu12 25.6.0 requires rmm-cu12==25.6.*, but you have rmm-cu12 25.2.0 which is incompatible.\u001b[0m\u001b[31m\n",
      "\u001b[0mSuccessfully installed accelerate-1.11.0 bitsandbytes-0.48.1 datasets-4.3.0 huggingface-hub-0.36.0 nvidia-cublas-cu12-12.4.5.8 nvidia-cuda-cupti-cu12-12.4.127 nvidia-cuda-nvrtc-cu12-12.4.127 nvidia-cuda-runtime-cu12-12.4.127 nvidia-cudnn-cu12-9.1.0.70 nvidia-cufft-cu12-11.2.1.3 nvidia-curand-cu12-10.3.5.147 nvidia-cusolver-cu12-11.6.1.9 nvidia-cusparse-cu12-12.3.1.170 nvidia-nvjitlink-cu12-12.4.127 pyarrow-22.0.0 tokenizers-0.22.1 transformers-4.57.1 trl-0.24.0\n"
     ]
    }
   ],
   "source": [
    "!pip install -U transformers datasets accelerate bitsandbytes trl"
   ]
  },
  {
   "cell_type": "code",
   "execution_count": 2,
   "metadata": {
    "execution": {
     "iopub.execute_input": "2025-10-27T13:21:55.898394Z",
     "iopub.status.busy": "2025-10-27T13:21:55.898153Z",
     "iopub.status.idle": "2025-10-27T13:22:07.029047Z",
     "shell.execute_reply": "2025-10-27T13:22:07.028333Z",
     "shell.execute_reply.started": "2025-10-27T13:21:55.898374Z"
    },
    "trusted": true
   },
   "outputs": [
    {
     "name": "stderr",
     "output_type": "stream",
     "text": [
      "/usr/local/lib/python3.11/dist-packages/pydantic/_internal/_generate_schema.py:2225: UnsupportedFieldAttributeWarning: The 'repr' attribute with value False was provided to the `Field()` function, which has no effect in the context it was used. 'repr' is field-specific metadata, and can only be attached to a model field using `Annotated` metadata or by assignment. This may have happened because an `Annotated` type alias using the `type` statement was used, or if the `Field()` function was attached to a single member of a union type.\n",
      "  warnings.warn(\n",
      "/usr/local/lib/python3.11/dist-packages/pydantic/_internal/_generate_schema.py:2225: UnsupportedFieldAttributeWarning: The 'frozen' attribute with value True was provided to the `Field()` function, which has no effect in the context it was used. 'frozen' is field-specific metadata, and can only be attached to a model field using `Annotated` metadata or by assignment. This may have happened because an `Annotated` type alias using the `type` statement was used, or if the `Field()` function was attached to a single member of a union type.\n",
      "  warnings.warn(\n"
     ]
    },
    {
     "name": "stdout",
     "output_type": "stream",
     "text": [
      "Logged in as: grasgor\n"
     ]
    },
    {
     "name": "stderr",
     "output_type": "stream",
     "text": [
      "\u001b[34m\u001b[1mwandb\u001b[0m: Currently logged in as: \u001b[33mgrasgor10\u001b[0m (\u001b[33mgrasgor10-\u001b[0m) to \u001b[32mhttps://api.wandb.ai\u001b[0m. Use \u001b[1m`wandb login --relogin`\u001b[0m to force relogin\n"
     ]
    },
    {
     "data": {
      "text/plain": [
       "True"
      ]
     },
     "execution_count": 2,
     "metadata": {},
     "output_type": "execute_result"
    }
   ],
   "source": [
    "import wandb\n",
    "import os\n",
    "from kaggle_secrets import UserSecretsClient\n",
    "from huggingface_hub import login, whoami\n",
    "\n",
    "user_secrets = UserSecretsClient()\n",
    "\n",
    "hf_token = user_secrets.get_secret(\"HF\")\n",
    "wandb_key = user_secrets.get_secret(\"wandb\")\n",
    "\n",
    "login(token=hf_token)\n",
    "user_info = whoami()\n",
    "print(f\"Logged in as: {user_info['name']}\")\n",
    "\n",
    "os.environ[\"WANDB_API_KEY\"] = wandb_key\n",
    "wandb.login()"
   ]
  },
  {
   "cell_type": "markdown",
   "metadata": {},
   "source": [
    "## Weighted lambda DPO"
   ]
  },
  {
   "cell_type": "markdown",
   "metadata": {},
   "source": [
    "### Model prep"
   ]
  },
  {
   "cell_type": "code",
   "execution_count": null,
   "metadata": {
    "execution": {
     "iopub.execute_input": "2025-10-27T12:32:49.776521Z",
     "iopub.status.busy": "2025-10-27T12:32:49.776195Z",
     "iopub.status.idle": "2025-10-27T12:33:40.589754Z",
     "shell.execute_reply": "2025-10-27T12:33:40.589043Z",
     "shell.execute_reply.started": "2025-10-27T12:32:49.776504Z"
    },
    "trusted": true
   },
   "outputs": [
    {
     "name": "stderr",
     "output_type": "stream",
     "text": [
      "2025-10-27 12:33:00.752352: E external/local_xla/xla/stream_executor/cuda/cuda_fft.cc:477] Unable to register cuFFT factory: Attempting to register factory for plugin cuFFT when one has already been registered\n",
      "WARNING: All log messages before absl::InitializeLog() is called are written to STDERR\n",
      "E0000 00:00:1761568380.926226      37 cuda_dnn.cc:8310] Unable to register cuDNN factory: Attempting to register factory for plugin cuDNN when one has already been registered\n",
      "E0000 00:00:1761568380.978105      37 cuda_blas.cc:1418] Unable to register cuBLAS factory: Attempting to register factory for plugin cuBLAS when one has already been registered\n"
     ]
    },
    {
     "name": "stdout",
     "output_type": "stream",
     "text": [
      "trainable params: 3,801,088 || all params: 1,239,615,488 || trainable%: 0.3066\n",
      "✅ PEFT model setup complete and ready for training!\n"
     ]
    }
   ],
   "source": [
    "import torch\n",
    "import torch.nn.functional as F\n",
    "from torch.utils.data import DataLoader\n",
    "from datasets import load_from_disk, Dataset\n",
    "from transformers import AutoTokenizer, AutoModelForCausalLM, BitsAndBytesConfig\n",
    "from peft import LoraConfig, get_peft_model\n",
    "from tqdm import tqdm\n",
    "\n",
    "model_name = \"/kaggle/input/jobs-llama-set/transformers/default/1/llama3.2-jobs-sft-merged\"\n",
    "\n",
    "bnb_config = BitsAndBytesConfig(\n",
    "    load_in_4bit=True,\n",
    "    bnb_4bit_quant_type=\"nf4\",\n",
    "    bnb_4bit_compute_dtype=torch.bfloat16,\n",
    "    bnb_4bit_use_double_quant=True,\n",
    ")\n",
    "\n",
    "tokenizer = AutoTokenizer.from_pretrained(model_name)\n",
    "tokenizer.pad_token = tokenizer.eos_token\n",
    "\n",
    "# Load reference model (frozen)\n",
    "ref_model = AutoModelForCausalLM.from_pretrained(\n",
    "    model_name,\n",
    "    quantization_config=bnb_config,\n",
    "    device_map={\"\": torch.cuda.current_device()},\n",
    ")\n",
    "ref_model.eval()\n",
    "ref_model.requires_grad_(False)\n",
    "\n",
    "# Load model for PEFT (trainable policy)\n",
    "model = AutoModelForCausalLM.from_pretrained(\n",
    "    model_name,\n",
    "    quantization_config=bnb_config,\n",
    "    device_map={\"\": torch.cuda.current_device()},\n",
    ")\n",
    "model.gradient_checkpointing_enable()\n",
    "\n",
    "peft_config = LoraConfig(\n",
    "    r=8,\n",
    "    lora_alpha=32,\n",
    "    lora_dropout=0.0,\n",
    "    target_modules=[\"q_proj\", \"k_proj\", \"v_proj\", \"up_proj\", \"down_proj\"],\n",
    "    bias=\"none\",\n",
    "    task_type=\"CAUSAL_LM\",\n",
    ")\n",
    "\n",
    "peft_model = get_peft_model(model, peft_config)\n",
    "peft_model.print_trainable_parameters()\n",
    "peft_model.enable_input_require_grads()\n",
    "peft_model.to(torch.cuda.current_device())\n",
    "\n",
    "print(\"✅ PEFT model setup complete and ready for training!\")\n",
    "\n",
    "device = torch.device(\"cuda\" if torch.cuda.is_available() else \"cpu\")"
   ]
  },
  {
   "cell_type": "code",
   "execution_count": 40,
   "metadata": {
    "execution": {
     "iopub.execute_input": "2025-10-27T09:35:53.795313Z",
     "iopub.status.busy": "2025-10-27T09:35:53.794705Z",
     "iopub.status.idle": "2025-10-27T09:35:57.738515Z",
     "shell.execute_reply": "2025-10-27T09:35:57.737907Z",
     "shell.execute_reply.started": "2025-10-27T09:35:53.795290Z"
    },
    "trusted": true
   },
   "outputs": [],
   "source": [
    "from transformers import AutoTokenizer, AutoModelForCausalLM, BitsAndBytesConfig\n",
    "from peft import LoraConfig, get_peft_model\n",
    "import torch\n",
    "\n",
    "model_name = \"/kaggle/input/jobs-llama-set/transformers/default/1/llama3.2-jobs-sft-merged\"\n",
    "\n",
    "bnb_config = BitsAndBytesConfig(\n",
    "    load_in_4bit=True,\n",
    "    bnb_4bit_quant_type=\"nf4\",\n",
    "    bnb_4bit_compute_dtype=torch.bfloat16,\n",
    "    bnb_4bit_use_double_quant=True,\n",
    ")\n",
    "\n",
    "tokenizer = AutoTokenizer.from_pretrained(model_name)\n",
    "tokenizer.pad_token = tokenizer.eos_token\n",
    "\n",
    "model = AutoModelForCausalLM.from_pretrained(\n",
    "    model_name,\n",
    "    quantization_config=bnb_config,\n",
    "    device_map={\"\": torch.cuda.current_device()},\n",
    ")\n",
    "\n",
    "model.gradient_checkpointing_enable()\n",
    "\n",
    "peft_config = LoraConfig(\n",
    "    r=8,\n",
    "    lora_alpha=32,\n",
    "    lora_dropout=0.0,\n",
    "    target_modules=[\"q_proj\", \"k_proj\", \"v_proj\", \"up_proj\", \"down_proj\"],\n",
    "    bias=\"none\",\n",
    "    task_type=\"CAUSAL_LM\",\n",
    ")\n"
   ]
  },
  {
   "cell_type": "code",
   "execution_count": 41,
   "metadata": {
    "execution": {
     "iopub.execute_input": "2025-10-27T09:35:57.740319Z",
     "iopub.status.busy": "2025-10-27T09:35:57.739690Z",
     "iopub.status.idle": "2025-10-27T09:35:57.744934Z",
     "shell.execute_reply": "2025-10-27T09:35:57.744179Z",
     "shell.execute_reply.started": "2025-10-27T09:35:57.740299Z"
    },
    "trusted": true
   },
   "outputs": [
    {
     "name": "stdout",
     "output_type": "stream",
     "text": [
      "Total LoRA layers: 0\n"
     ]
    }
   ],
   "source": [
    "num_lora_layers = sum(1 for name, _ in model.named_parameters() if \"lora_\" in name)\n",
    "print(f\"Total LoRA layers: {num_lora_layers}\")"
   ]
  },
  {
   "cell_type": "code",
   "execution_count": 42,
   "metadata": {
    "execution": {
     "iopub.execute_input": "2025-10-27T09:35:59.095956Z",
     "iopub.status.busy": "2025-10-27T09:35:59.095385Z",
     "iopub.status.idle": "2025-10-27T09:35:59.102152Z",
     "shell.execute_reply": "2025-10-27T09:35:59.101227Z",
     "shell.execute_reply.started": "2025-10-27T09:35:59.095930Z"
    },
    "scrolled": true,
    "trusted": true
   },
   "outputs": [
    {
     "name": "stdout",
     "output_type": "stream",
     "text": [
      "model.embed_tokens.weight\n",
      "model.layers.0.self_attn.q_proj.weight\n",
      "model.layers.0.self_attn.k_proj.weight\n",
      "model.layers.0.self_attn.v_proj.weight\n",
      "model.layers.0.self_attn.o_proj.weight\n",
      "model.layers.0.mlp.gate_proj.weight\n",
      "model.layers.0.mlp.up_proj.weight\n",
      "model.layers.0.mlp.down_proj.weight\n",
      "model.layers.0.input_layernorm.weight\n",
      "model.layers.0.post_attention_layernorm.weight\n",
      "model.layers.1.self_attn.q_proj.weight\n",
      "model.layers.1.self_attn.k_proj.weight\n",
      "model.layers.1.self_attn.v_proj.weight\n",
      "model.layers.1.self_attn.o_proj.weight\n",
      "model.layers.1.mlp.gate_proj.weight\n",
      "model.layers.1.mlp.up_proj.weight\n",
      "model.layers.1.mlp.down_proj.weight\n",
      "model.layers.1.input_layernorm.weight\n",
      "model.layers.1.post_attention_layernorm.weight\n",
      "model.layers.2.self_attn.q_proj.weight\n",
      "model.layers.2.self_attn.k_proj.weight\n",
      "model.layers.2.self_attn.v_proj.weight\n",
      "model.layers.2.self_attn.o_proj.weight\n",
      "model.layers.2.mlp.gate_proj.weight\n",
      "model.layers.2.mlp.up_proj.weight\n",
      "model.layers.2.mlp.down_proj.weight\n",
      "model.layers.2.input_layernorm.weight\n",
      "model.layers.2.post_attention_layernorm.weight\n",
      "model.layers.3.self_attn.q_proj.weight\n",
      "model.layers.3.self_attn.k_proj.weight\n",
      "model.layers.3.self_attn.v_proj.weight\n",
      "model.layers.3.self_attn.o_proj.weight\n",
      "model.layers.3.mlp.gate_proj.weight\n",
      "model.layers.3.mlp.up_proj.weight\n",
      "model.layers.3.mlp.down_proj.weight\n",
      "model.layers.3.input_layernorm.weight\n",
      "model.layers.3.post_attention_layernorm.weight\n",
      "model.layers.4.self_attn.q_proj.weight\n",
      "model.layers.4.self_attn.k_proj.weight\n",
      "model.layers.4.self_attn.v_proj.weight\n",
      "model.layers.4.self_attn.o_proj.weight\n",
      "model.layers.4.mlp.gate_proj.weight\n",
      "model.layers.4.mlp.up_proj.weight\n",
      "model.layers.4.mlp.down_proj.weight\n",
      "model.layers.4.input_layernorm.weight\n",
      "model.layers.4.post_attention_layernorm.weight\n",
      "model.layers.5.self_attn.q_proj.weight\n",
      "model.layers.5.self_attn.k_proj.weight\n",
      "model.layers.5.self_attn.v_proj.weight\n",
      "model.layers.5.self_attn.o_proj.weight\n",
      "model.layers.5.mlp.gate_proj.weight\n",
      "model.layers.5.mlp.up_proj.weight\n",
      "model.layers.5.mlp.down_proj.weight\n",
      "model.layers.5.input_layernorm.weight\n",
      "model.layers.5.post_attention_layernorm.weight\n",
      "model.layers.6.self_attn.q_proj.weight\n",
      "model.layers.6.self_attn.k_proj.weight\n",
      "model.layers.6.self_attn.v_proj.weight\n",
      "model.layers.6.self_attn.o_proj.weight\n",
      "model.layers.6.mlp.gate_proj.weight\n",
      "model.layers.6.mlp.up_proj.weight\n",
      "model.layers.6.mlp.down_proj.weight\n",
      "model.layers.6.input_layernorm.weight\n",
      "model.layers.6.post_attention_layernorm.weight\n",
      "model.layers.7.self_attn.q_proj.weight\n",
      "model.layers.7.self_attn.k_proj.weight\n",
      "model.layers.7.self_attn.v_proj.weight\n",
      "model.layers.7.self_attn.o_proj.weight\n",
      "model.layers.7.mlp.gate_proj.weight\n",
      "model.layers.7.mlp.up_proj.weight\n",
      "model.layers.7.mlp.down_proj.weight\n",
      "model.layers.7.input_layernorm.weight\n",
      "model.layers.7.post_attention_layernorm.weight\n",
      "model.layers.8.self_attn.q_proj.weight\n",
      "model.layers.8.self_attn.k_proj.weight\n",
      "model.layers.8.self_attn.v_proj.weight\n",
      "model.layers.8.self_attn.o_proj.weight\n",
      "model.layers.8.mlp.gate_proj.weight\n",
      "model.layers.8.mlp.up_proj.weight\n",
      "model.layers.8.mlp.down_proj.weight\n",
      "model.layers.8.input_layernorm.weight\n",
      "model.layers.8.post_attention_layernorm.weight\n",
      "model.layers.9.self_attn.q_proj.weight\n",
      "model.layers.9.self_attn.k_proj.weight\n",
      "model.layers.9.self_attn.v_proj.weight\n",
      "model.layers.9.self_attn.o_proj.weight\n",
      "model.layers.9.mlp.gate_proj.weight\n",
      "model.layers.9.mlp.up_proj.weight\n",
      "model.layers.9.mlp.down_proj.weight\n",
      "model.layers.9.input_layernorm.weight\n",
      "model.layers.9.post_attention_layernorm.weight\n",
      "model.layers.10.self_attn.q_proj.weight\n",
      "model.layers.10.self_attn.k_proj.weight\n",
      "model.layers.10.self_attn.v_proj.weight\n",
      "model.layers.10.self_attn.o_proj.weight\n",
      "model.layers.10.mlp.gate_proj.weight\n",
      "model.layers.10.mlp.up_proj.weight\n",
      "model.layers.10.mlp.down_proj.weight\n",
      "model.layers.10.input_layernorm.weight\n",
      "model.layers.10.post_attention_layernorm.weight\n",
      "model.layers.11.self_attn.q_proj.weight\n",
      "model.layers.11.self_attn.k_proj.weight\n",
      "model.layers.11.self_attn.v_proj.weight\n",
      "model.layers.11.self_attn.o_proj.weight\n",
      "model.layers.11.mlp.gate_proj.weight\n",
      "model.layers.11.mlp.up_proj.weight\n",
      "model.layers.11.mlp.down_proj.weight\n",
      "model.layers.11.input_layernorm.weight\n",
      "model.layers.11.post_attention_layernorm.weight\n",
      "model.layers.12.self_attn.q_proj.weight\n",
      "model.layers.12.self_attn.k_proj.weight\n",
      "model.layers.12.self_attn.v_proj.weight\n",
      "model.layers.12.self_attn.o_proj.weight\n",
      "model.layers.12.mlp.gate_proj.weight\n",
      "model.layers.12.mlp.up_proj.weight\n",
      "model.layers.12.mlp.down_proj.weight\n",
      "model.layers.12.input_layernorm.weight\n",
      "model.layers.12.post_attention_layernorm.weight\n",
      "model.layers.13.self_attn.q_proj.weight\n",
      "model.layers.13.self_attn.k_proj.weight\n",
      "model.layers.13.self_attn.v_proj.weight\n",
      "model.layers.13.self_attn.o_proj.weight\n",
      "model.layers.13.mlp.gate_proj.weight\n",
      "model.layers.13.mlp.up_proj.weight\n",
      "model.layers.13.mlp.down_proj.weight\n",
      "model.layers.13.input_layernorm.weight\n",
      "model.layers.13.post_attention_layernorm.weight\n",
      "model.layers.14.self_attn.q_proj.weight\n",
      "model.layers.14.self_attn.k_proj.weight\n",
      "model.layers.14.self_attn.v_proj.weight\n",
      "model.layers.14.self_attn.o_proj.weight\n",
      "model.layers.14.mlp.gate_proj.weight\n",
      "model.layers.14.mlp.up_proj.weight\n",
      "model.layers.14.mlp.down_proj.weight\n",
      "model.layers.14.input_layernorm.weight\n",
      "model.layers.14.post_attention_layernorm.weight\n",
      "model.layers.15.self_attn.q_proj.weight\n",
      "model.layers.15.self_attn.k_proj.weight\n",
      "model.layers.15.self_attn.v_proj.weight\n",
      "model.layers.15.self_attn.o_proj.weight\n",
      "model.layers.15.mlp.gate_proj.weight\n",
      "model.layers.15.mlp.up_proj.weight\n",
      "model.layers.15.mlp.down_proj.weight\n",
      "model.layers.15.input_layernorm.weight\n",
      "model.layers.15.post_attention_layernorm.weight\n",
      "model.norm.weight\n"
     ]
    }
   ],
   "source": [
    "for n, p in model.named_parameters():\n",
    "        print(n)"
   ]
  },
  {
   "cell_type": "code",
   "execution_count": 43,
   "metadata": {
    "execution": {
     "iopub.execute_input": "2025-10-27T09:36:05.900055Z",
     "iopub.status.busy": "2025-10-27T09:36:05.899752Z",
     "iopub.status.idle": "2025-10-27T09:36:06.044553Z",
     "shell.execute_reply": "2025-10-27T09:36:06.044031Z",
     "shell.execute_reply.started": "2025-10-27T09:36:05.900035Z"
    },
    "trusted": true
   },
   "outputs": [
    {
     "name": "stdout",
     "output_type": "stream",
     "text": [
      "trainable params: 3,801,088 || all params: 1,239,615,488 || trainable%: 0.3066\n",
      "✅ PEFT model setup complete and ready for training!\n"
     ]
    }
   ],
   "source": [
    "from peft import get_peft_model\n",
    "peft_model = get_peft_model(model, peft_config)\n",
    "peft_model.print_trainable_parameters()\n",
    "peft_model.enable_input_require_grads()\n",
    "peft_model.to(torch.cuda.current_device())\n",
    "print(\"✅ PEFT model setup complete and ready for training!\")"
   ]
  },
  {
   "cell_type": "code",
   "execution_count": 44,
   "metadata": {
    "execution": {
     "iopub.execute_input": "2025-10-27T09:36:08.315372Z",
     "iopub.status.busy": "2025-10-27T09:36:08.314654Z",
     "iopub.status.idle": "2025-10-27T09:36:08.321668Z",
     "shell.execute_reply": "2025-10-27T09:36:08.321037Z",
     "shell.execute_reply.started": "2025-10-27T09:36:08.315347Z"
    },
    "trusted": true
   },
   "outputs": [
    {
     "name": "stdout",
     "output_type": "stream",
     "text": [
      "Total LoRA layers: 160\n"
     ]
    }
   ],
   "source": [
    "num_lora_layers_peft = sum(1 for name, _ in peft_model.named_parameters() if \"lora_\" in name)\n",
    "print(f\"Total LoRA layers: {num_lora_layers_peft}\")"
   ]
  },
  {
   "cell_type": "code",
   "execution_count": 45,
   "metadata": {
    "execution": {
     "iopub.execute_input": "2025-10-27T09:36:10.004308Z",
     "iopub.status.busy": "2025-10-27T09:36:10.003526Z",
     "iopub.status.idle": "2025-10-27T09:36:10.013184Z",
     "shell.execute_reply": "2025-10-27T09:36:10.012455Z",
     "shell.execute_reply.started": "2025-10-27T09:36:10.004280Z"
    },
    "scrolled": true,
    "trusted": true
   },
   "outputs": [
    {
     "name": "stdout",
     "output_type": "stream",
     "text": [
      "base_model.model.model.embed_tokens.weight\n",
      "base_model.model.model.layers.0.self_attn.q_proj.base_layer.weight\n",
      "base_model.model.model.layers.0.self_attn.q_proj.lora_A.default.weight\n",
      "base_model.model.model.layers.0.self_attn.q_proj.lora_B.default.weight\n",
      "base_model.model.model.layers.0.self_attn.k_proj.base_layer.weight\n",
      "base_model.model.model.layers.0.self_attn.k_proj.lora_A.default.weight\n",
      "base_model.model.model.layers.0.self_attn.k_proj.lora_B.default.weight\n",
      "base_model.model.model.layers.0.self_attn.v_proj.base_layer.weight\n",
      "base_model.model.model.layers.0.self_attn.v_proj.lora_A.default.weight\n",
      "base_model.model.model.layers.0.self_attn.v_proj.lora_B.default.weight\n",
      "base_model.model.model.layers.0.self_attn.o_proj.weight\n",
      "base_model.model.model.layers.0.mlp.gate_proj.weight\n",
      "base_model.model.model.layers.0.mlp.up_proj.base_layer.weight\n",
      "base_model.model.model.layers.0.mlp.up_proj.lora_A.default.weight\n",
      "base_model.model.model.layers.0.mlp.up_proj.lora_B.default.weight\n",
      "base_model.model.model.layers.0.mlp.down_proj.base_layer.weight\n",
      "base_model.model.model.layers.0.mlp.down_proj.lora_A.default.weight\n",
      "base_model.model.model.layers.0.mlp.down_proj.lora_B.default.weight\n",
      "base_model.model.model.layers.0.input_layernorm.weight\n",
      "base_model.model.model.layers.0.post_attention_layernorm.weight\n",
      "base_model.model.model.layers.1.self_attn.q_proj.base_layer.weight\n",
      "base_model.model.model.layers.1.self_attn.q_proj.lora_A.default.weight\n",
      "base_model.model.model.layers.1.self_attn.q_proj.lora_B.default.weight\n",
      "base_model.model.model.layers.1.self_attn.k_proj.base_layer.weight\n",
      "base_model.model.model.layers.1.self_attn.k_proj.lora_A.default.weight\n",
      "base_model.model.model.layers.1.self_attn.k_proj.lora_B.default.weight\n",
      "base_model.model.model.layers.1.self_attn.v_proj.base_layer.weight\n",
      "base_model.model.model.layers.1.self_attn.v_proj.lora_A.default.weight\n",
      "base_model.model.model.layers.1.self_attn.v_proj.lora_B.default.weight\n",
      "base_model.model.model.layers.1.self_attn.o_proj.weight\n",
      "base_model.model.model.layers.1.mlp.gate_proj.weight\n",
      "base_model.model.model.layers.1.mlp.up_proj.base_layer.weight\n",
      "base_model.model.model.layers.1.mlp.up_proj.lora_A.default.weight\n",
      "base_model.model.model.layers.1.mlp.up_proj.lora_B.default.weight\n",
      "base_model.model.model.layers.1.mlp.down_proj.base_layer.weight\n",
      "base_model.model.model.layers.1.mlp.down_proj.lora_A.default.weight\n",
      "base_model.model.model.layers.1.mlp.down_proj.lora_B.default.weight\n",
      "base_model.model.model.layers.1.input_layernorm.weight\n",
      "base_model.model.model.layers.1.post_attention_layernorm.weight\n",
      "base_model.model.model.layers.2.self_attn.q_proj.base_layer.weight\n",
      "base_model.model.model.layers.2.self_attn.q_proj.lora_A.default.weight\n",
      "base_model.model.model.layers.2.self_attn.q_proj.lora_B.default.weight\n",
      "base_model.model.model.layers.2.self_attn.k_proj.base_layer.weight\n",
      "base_model.model.model.layers.2.self_attn.k_proj.lora_A.default.weight\n",
      "base_model.model.model.layers.2.self_attn.k_proj.lora_B.default.weight\n",
      "base_model.model.model.layers.2.self_attn.v_proj.base_layer.weight\n",
      "base_model.model.model.layers.2.self_attn.v_proj.lora_A.default.weight\n",
      "base_model.model.model.layers.2.self_attn.v_proj.lora_B.default.weight\n",
      "base_model.model.model.layers.2.self_attn.o_proj.weight\n",
      "base_model.model.model.layers.2.mlp.gate_proj.weight\n",
      "base_model.model.model.layers.2.mlp.up_proj.base_layer.weight\n",
      "base_model.model.model.layers.2.mlp.up_proj.lora_A.default.weight\n",
      "base_model.model.model.layers.2.mlp.up_proj.lora_B.default.weight\n",
      "base_model.model.model.layers.2.mlp.down_proj.base_layer.weight\n",
      "base_model.model.model.layers.2.mlp.down_proj.lora_A.default.weight\n",
      "base_model.model.model.layers.2.mlp.down_proj.lora_B.default.weight\n",
      "base_model.model.model.layers.2.input_layernorm.weight\n",
      "base_model.model.model.layers.2.post_attention_layernorm.weight\n",
      "base_model.model.model.layers.3.self_attn.q_proj.base_layer.weight\n",
      "base_model.model.model.layers.3.self_attn.q_proj.lora_A.default.weight\n",
      "base_model.model.model.layers.3.self_attn.q_proj.lora_B.default.weight\n",
      "base_model.model.model.layers.3.self_attn.k_proj.base_layer.weight\n",
      "base_model.model.model.layers.3.self_attn.k_proj.lora_A.default.weight\n",
      "base_model.model.model.layers.3.self_attn.k_proj.lora_B.default.weight\n",
      "base_model.model.model.layers.3.self_attn.v_proj.base_layer.weight\n",
      "base_model.model.model.layers.3.self_attn.v_proj.lora_A.default.weight\n",
      "base_model.model.model.layers.3.self_attn.v_proj.lora_B.default.weight\n",
      "base_model.model.model.layers.3.self_attn.o_proj.weight\n",
      "base_model.model.model.layers.3.mlp.gate_proj.weight\n",
      "base_model.model.model.layers.3.mlp.up_proj.base_layer.weight\n",
      "base_model.model.model.layers.3.mlp.up_proj.lora_A.default.weight\n",
      "base_model.model.model.layers.3.mlp.up_proj.lora_B.default.weight\n",
      "base_model.model.model.layers.3.mlp.down_proj.base_layer.weight\n",
      "base_model.model.model.layers.3.mlp.down_proj.lora_A.default.weight\n",
      "base_model.model.model.layers.3.mlp.down_proj.lora_B.default.weight\n",
      "base_model.model.model.layers.3.input_layernorm.weight\n",
      "base_model.model.model.layers.3.post_attention_layernorm.weight\n",
      "base_model.model.model.layers.4.self_attn.q_proj.base_layer.weight\n",
      "base_model.model.model.layers.4.self_attn.q_proj.lora_A.default.weight\n",
      "base_model.model.model.layers.4.self_attn.q_proj.lora_B.default.weight\n",
      "base_model.model.model.layers.4.self_attn.k_proj.base_layer.weight\n",
      "base_model.model.model.layers.4.self_attn.k_proj.lora_A.default.weight\n",
      "base_model.model.model.layers.4.self_attn.k_proj.lora_B.default.weight\n",
      "base_model.model.model.layers.4.self_attn.v_proj.base_layer.weight\n",
      "base_model.model.model.layers.4.self_attn.v_proj.lora_A.default.weight\n",
      "base_model.model.model.layers.4.self_attn.v_proj.lora_B.default.weight\n",
      "base_model.model.model.layers.4.self_attn.o_proj.weight\n",
      "base_model.model.model.layers.4.mlp.gate_proj.weight\n",
      "base_model.model.model.layers.4.mlp.up_proj.base_layer.weight\n",
      "base_model.model.model.layers.4.mlp.up_proj.lora_A.default.weight\n",
      "base_model.model.model.layers.4.mlp.up_proj.lora_B.default.weight\n",
      "base_model.model.model.layers.4.mlp.down_proj.base_layer.weight\n",
      "base_model.model.model.layers.4.mlp.down_proj.lora_A.default.weight\n",
      "base_model.model.model.layers.4.mlp.down_proj.lora_B.default.weight\n",
      "base_model.model.model.layers.4.input_layernorm.weight\n",
      "base_model.model.model.layers.4.post_attention_layernorm.weight\n",
      "base_model.model.model.layers.5.self_attn.q_proj.base_layer.weight\n",
      "base_model.model.model.layers.5.self_attn.q_proj.lora_A.default.weight\n",
      "base_model.model.model.layers.5.self_attn.q_proj.lora_B.default.weight\n",
      "base_model.model.model.layers.5.self_attn.k_proj.base_layer.weight\n",
      "base_model.model.model.layers.5.self_attn.k_proj.lora_A.default.weight\n",
      "base_model.model.model.layers.5.self_attn.k_proj.lora_B.default.weight\n",
      "base_model.model.model.layers.5.self_attn.v_proj.base_layer.weight\n",
      "base_model.model.model.layers.5.self_attn.v_proj.lora_A.default.weight\n",
      "base_model.model.model.layers.5.self_attn.v_proj.lora_B.default.weight\n",
      "base_model.model.model.layers.5.self_attn.o_proj.weight\n",
      "base_model.model.model.layers.5.mlp.gate_proj.weight\n",
      "base_model.model.model.layers.5.mlp.up_proj.base_layer.weight\n",
      "base_model.model.model.layers.5.mlp.up_proj.lora_A.default.weight\n",
      "base_model.model.model.layers.5.mlp.up_proj.lora_B.default.weight\n",
      "base_model.model.model.layers.5.mlp.down_proj.base_layer.weight\n",
      "base_model.model.model.layers.5.mlp.down_proj.lora_A.default.weight\n",
      "base_model.model.model.layers.5.mlp.down_proj.lora_B.default.weight\n",
      "base_model.model.model.layers.5.input_layernorm.weight\n",
      "base_model.model.model.layers.5.post_attention_layernorm.weight\n",
      "base_model.model.model.layers.6.self_attn.q_proj.base_layer.weight\n",
      "base_model.model.model.layers.6.self_attn.q_proj.lora_A.default.weight\n",
      "base_model.model.model.layers.6.self_attn.q_proj.lora_B.default.weight\n",
      "base_model.model.model.layers.6.self_attn.k_proj.base_layer.weight\n",
      "base_model.model.model.layers.6.self_attn.k_proj.lora_A.default.weight\n",
      "base_model.model.model.layers.6.self_attn.k_proj.lora_B.default.weight\n",
      "base_model.model.model.layers.6.self_attn.v_proj.base_layer.weight\n",
      "base_model.model.model.layers.6.self_attn.v_proj.lora_A.default.weight\n",
      "base_model.model.model.layers.6.self_attn.v_proj.lora_B.default.weight\n",
      "base_model.model.model.layers.6.self_attn.o_proj.weight\n",
      "base_model.model.model.layers.6.mlp.gate_proj.weight\n",
      "base_model.model.model.layers.6.mlp.up_proj.base_layer.weight\n",
      "base_model.model.model.layers.6.mlp.up_proj.lora_A.default.weight\n",
      "base_model.model.model.layers.6.mlp.up_proj.lora_B.default.weight\n",
      "base_model.model.model.layers.6.mlp.down_proj.base_layer.weight\n",
      "base_model.model.model.layers.6.mlp.down_proj.lora_A.default.weight\n",
      "base_model.model.model.layers.6.mlp.down_proj.lora_B.default.weight\n",
      "base_model.model.model.layers.6.input_layernorm.weight\n",
      "base_model.model.model.layers.6.post_attention_layernorm.weight\n",
      "base_model.model.model.layers.7.self_attn.q_proj.base_layer.weight\n",
      "base_model.model.model.layers.7.self_attn.q_proj.lora_A.default.weight\n",
      "base_model.model.model.layers.7.self_attn.q_proj.lora_B.default.weight\n",
      "base_model.model.model.layers.7.self_attn.k_proj.base_layer.weight\n",
      "base_model.model.model.layers.7.self_attn.k_proj.lora_A.default.weight\n",
      "base_model.model.model.layers.7.self_attn.k_proj.lora_B.default.weight\n",
      "base_model.model.model.layers.7.self_attn.v_proj.base_layer.weight\n",
      "base_model.model.model.layers.7.self_attn.v_proj.lora_A.default.weight\n",
      "base_model.model.model.layers.7.self_attn.v_proj.lora_B.default.weight\n",
      "base_model.model.model.layers.7.self_attn.o_proj.weight\n",
      "base_model.model.model.layers.7.mlp.gate_proj.weight\n",
      "base_model.model.model.layers.7.mlp.up_proj.base_layer.weight\n",
      "base_model.model.model.layers.7.mlp.up_proj.lora_A.default.weight\n",
      "base_model.model.model.layers.7.mlp.up_proj.lora_B.default.weight\n",
      "base_model.model.model.layers.7.mlp.down_proj.base_layer.weight\n",
      "base_model.model.model.layers.7.mlp.down_proj.lora_A.default.weight\n",
      "base_model.model.model.layers.7.mlp.down_proj.lora_B.default.weight\n",
      "base_model.model.model.layers.7.input_layernorm.weight\n",
      "base_model.model.model.layers.7.post_attention_layernorm.weight\n",
      "base_model.model.model.layers.8.self_attn.q_proj.base_layer.weight\n",
      "base_model.model.model.layers.8.self_attn.q_proj.lora_A.default.weight\n",
      "base_model.model.model.layers.8.self_attn.q_proj.lora_B.default.weight\n",
      "base_model.model.model.layers.8.self_attn.k_proj.base_layer.weight\n",
      "base_model.model.model.layers.8.self_attn.k_proj.lora_A.default.weight\n",
      "base_model.model.model.layers.8.self_attn.k_proj.lora_B.default.weight\n",
      "base_model.model.model.layers.8.self_attn.v_proj.base_layer.weight\n",
      "base_model.model.model.layers.8.self_attn.v_proj.lora_A.default.weight\n",
      "base_model.model.model.layers.8.self_attn.v_proj.lora_B.default.weight\n",
      "base_model.model.model.layers.8.self_attn.o_proj.weight\n",
      "base_model.model.model.layers.8.mlp.gate_proj.weight\n",
      "base_model.model.model.layers.8.mlp.up_proj.base_layer.weight\n",
      "base_model.model.model.layers.8.mlp.up_proj.lora_A.default.weight\n",
      "base_model.model.model.layers.8.mlp.up_proj.lora_B.default.weight\n",
      "base_model.model.model.layers.8.mlp.down_proj.base_layer.weight\n",
      "base_model.model.model.layers.8.mlp.down_proj.lora_A.default.weight\n",
      "base_model.model.model.layers.8.mlp.down_proj.lora_B.default.weight\n",
      "base_model.model.model.layers.8.input_layernorm.weight\n",
      "base_model.model.model.layers.8.post_attention_layernorm.weight\n",
      "base_model.model.model.layers.9.self_attn.q_proj.base_layer.weight\n",
      "base_model.model.model.layers.9.self_attn.q_proj.lora_A.default.weight\n",
      "base_model.model.model.layers.9.self_attn.q_proj.lora_B.default.weight\n",
      "base_model.model.model.layers.9.self_attn.k_proj.base_layer.weight\n",
      "base_model.model.model.layers.9.self_attn.k_proj.lora_A.default.weight\n",
      "base_model.model.model.layers.9.self_attn.k_proj.lora_B.default.weight\n",
      "base_model.model.model.layers.9.self_attn.v_proj.base_layer.weight\n",
      "base_model.model.model.layers.9.self_attn.v_proj.lora_A.default.weight\n",
      "base_model.model.model.layers.9.self_attn.v_proj.lora_B.default.weight\n",
      "base_model.model.model.layers.9.self_attn.o_proj.weight\n",
      "base_model.model.model.layers.9.mlp.gate_proj.weight\n",
      "base_model.model.model.layers.9.mlp.up_proj.base_layer.weight\n",
      "base_model.model.model.layers.9.mlp.up_proj.lora_A.default.weight\n",
      "base_model.model.model.layers.9.mlp.up_proj.lora_B.default.weight\n",
      "base_model.model.model.layers.9.mlp.down_proj.base_layer.weight\n",
      "base_model.model.model.layers.9.mlp.down_proj.lora_A.default.weight\n",
      "base_model.model.model.layers.9.mlp.down_proj.lora_B.default.weight\n",
      "base_model.model.model.layers.9.input_layernorm.weight\n",
      "base_model.model.model.layers.9.post_attention_layernorm.weight\n",
      "base_model.model.model.layers.10.self_attn.q_proj.base_layer.weight\n",
      "base_model.model.model.layers.10.self_attn.q_proj.lora_A.default.weight\n",
      "base_model.model.model.layers.10.self_attn.q_proj.lora_B.default.weight\n",
      "base_model.model.model.layers.10.self_attn.k_proj.base_layer.weight\n",
      "base_model.model.model.layers.10.self_attn.k_proj.lora_A.default.weight\n",
      "base_model.model.model.layers.10.self_attn.k_proj.lora_B.default.weight\n",
      "base_model.model.model.layers.10.self_attn.v_proj.base_layer.weight\n",
      "base_model.model.model.layers.10.self_attn.v_proj.lora_A.default.weight\n",
      "base_model.model.model.layers.10.self_attn.v_proj.lora_B.default.weight\n",
      "base_model.model.model.layers.10.self_attn.o_proj.weight\n",
      "base_model.model.model.layers.10.mlp.gate_proj.weight\n",
      "base_model.model.model.layers.10.mlp.up_proj.base_layer.weight\n",
      "base_model.model.model.layers.10.mlp.up_proj.lora_A.default.weight\n",
      "base_model.model.model.layers.10.mlp.up_proj.lora_B.default.weight\n",
      "base_model.model.model.layers.10.mlp.down_proj.base_layer.weight\n",
      "base_model.model.model.layers.10.mlp.down_proj.lora_A.default.weight\n",
      "base_model.model.model.layers.10.mlp.down_proj.lora_B.default.weight\n",
      "base_model.model.model.layers.10.input_layernorm.weight\n",
      "base_model.model.model.layers.10.post_attention_layernorm.weight\n",
      "base_model.model.model.layers.11.self_attn.q_proj.base_layer.weight\n",
      "base_model.model.model.layers.11.self_attn.q_proj.lora_A.default.weight\n",
      "base_model.model.model.layers.11.self_attn.q_proj.lora_B.default.weight\n",
      "base_model.model.model.layers.11.self_attn.k_proj.base_layer.weight\n",
      "base_model.model.model.layers.11.self_attn.k_proj.lora_A.default.weight\n",
      "base_model.model.model.layers.11.self_attn.k_proj.lora_B.default.weight\n",
      "base_model.model.model.layers.11.self_attn.v_proj.base_layer.weight\n",
      "base_model.model.model.layers.11.self_attn.v_proj.lora_A.default.weight\n",
      "base_model.model.model.layers.11.self_attn.v_proj.lora_B.default.weight\n",
      "base_model.model.model.layers.11.self_attn.o_proj.weight\n",
      "base_model.model.model.layers.11.mlp.gate_proj.weight\n",
      "base_model.model.model.layers.11.mlp.up_proj.base_layer.weight\n",
      "base_model.model.model.layers.11.mlp.up_proj.lora_A.default.weight\n",
      "base_model.model.model.layers.11.mlp.up_proj.lora_B.default.weight\n",
      "base_model.model.model.layers.11.mlp.down_proj.base_layer.weight\n",
      "base_model.model.model.layers.11.mlp.down_proj.lora_A.default.weight\n",
      "base_model.model.model.layers.11.mlp.down_proj.lora_B.default.weight\n",
      "base_model.model.model.layers.11.input_layernorm.weight\n",
      "base_model.model.model.layers.11.post_attention_layernorm.weight\n",
      "base_model.model.model.layers.12.self_attn.q_proj.base_layer.weight\n",
      "base_model.model.model.layers.12.self_attn.q_proj.lora_A.default.weight\n",
      "base_model.model.model.layers.12.self_attn.q_proj.lora_B.default.weight\n",
      "base_model.model.model.layers.12.self_attn.k_proj.base_layer.weight\n",
      "base_model.model.model.layers.12.self_attn.k_proj.lora_A.default.weight\n",
      "base_model.model.model.layers.12.self_attn.k_proj.lora_B.default.weight\n",
      "base_model.model.model.layers.12.self_attn.v_proj.base_layer.weight\n",
      "base_model.model.model.layers.12.self_attn.v_proj.lora_A.default.weight\n",
      "base_model.model.model.layers.12.self_attn.v_proj.lora_B.default.weight\n",
      "base_model.model.model.layers.12.self_attn.o_proj.weight\n",
      "base_model.model.model.layers.12.mlp.gate_proj.weight\n",
      "base_model.model.model.layers.12.mlp.up_proj.base_layer.weight\n",
      "base_model.model.model.layers.12.mlp.up_proj.lora_A.default.weight\n",
      "base_model.model.model.layers.12.mlp.up_proj.lora_B.default.weight\n",
      "base_model.model.model.layers.12.mlp.down_proj.base_layer.weight\n",
      "base_model.model.model.layers.12.mlp.down_proj.lora_A.default.weight\n",
      "base_model.model.model.layers.12.mlp.down_proj.lora_B.default.weight\n",
      "base_model.model.model.layers.12.input_layernorm.weight\n",
      "base_model.model.model.layers.12.post_attention_layernorm.weight\n",
      "base_model.model.model.layers.13.self_attn.q_proj.base_layer.weight\n",
      "base_model.model.model.layers.13.self_attn.q_proj.lora_A.default.weight\n",
      "base_model.model.model.layers.13.self_attn.q_proj.lora_B.default.weight\n",
      "base_model.model.model.layers.13.self_attn.k_proj.base_layer.weight\n",
      "base_model.model.model.layers.13.self_attn.k_proj.lora_A.default.weight\n",
      "base_model.model.model.layers.13.self_attn.k_proj.lora_B.default.weight\n",
      "base_model.model.model.layers.13.self_attn.v_proj.base_layer.weight\n",
      "base_model.model.model.layers.13.self_attn.v_proj.lora_A.default.weight\n",
      "base_model.model.model.layers.13.self_attn.v_proj.lora_B.default.weight\n",
      "base_model.model.model.layers.13.self_attn.o_proj.weight\n",
      "base_model.model.model.layers.13.mlp.gate_proj.weight\n",
      "base_model.model.model.layers.13.mlp.up_proj.base_layer.weight\n",
      "base_model.model.model.layers.13.mlp.up_proj.lora_A.default.weight\n",
      "base_model.model.model.layers.13.mlp.up_proj.lora_B.default.weight\n",
      "base_model.model.model.layers.13.mlp.down_proj.base_layer.weight\n",
      "base_model.model.model.layers.13.mlp.down_proj.lora_A.default.weight\n",
      "base_model.model.model.layers.13.mlp.down_proj.lora_B.default.weight\n",
      "base_model.model.model.layers.13.input_layernorm.weight\n",
      "base_model.model.model.layers.13.post_attention_layernorm.weight\n",
      "base_model.model.model.layers.14.self_attn.q_proj.base_layer.weight\n",
      "base_model.model.model.layers.14.self_attn.q_proj.lora_A.default.weight\n",
      "base_model.model.model.layers.14.self_attn.q_proj.lora_B.default.weight\n",
      "base_model.model.model.layers.14.self_attn.k_proj.base_layer.weight\n",
      "base_model.model.model.layers.14.self_attn.k_proj.lora_A.default.weight\n",
      "base_model.model.model.layers.14.self_attn.k_proj.lora_B.default.weight\n",
      "base_model.model.model.layers.14.self_attn.v_proj.base_layer.weight\n",
      "base_model.model.model.layers.14.self_attn.v_proj.lora_A.default.weight\n",
      "base_model.model.model.layers.14.self_attn.v_proj.lora_B.default.weight\n",
      "base_model.model.model.layers.14.self_attn.o_proj.weight\n",
      "base_model.model.model.layers.14.mlp.gate_proj.weight\n",
      "base_model.model.model.layers.14.mlp.up_proj.base_layer.weight\n",
      "base_model.model.model.layers.14.mlp.up_proj.lora_A.default.weight\n",
      "base_model.model.model.layers.14.mlp.up_proj.lora_B.default.weight\n",
      "base_model.model.model.layers.14.mlp.down_proj.base_layer.weight\n",
      "base_model.model.model.layers.14.mlp.down_proj.lora_A.default.weight\n",
      "base_model.model.model.layers.14.mlp.down_proj.lora_B.default.weight\n",
      "base_model.model.model.layers.14.input_layernorm.weight\n",
      "base_model.model.model.layers.14.post_attention_layernorm.weight\n",
      "base_model.model.model.layers.15.self_attn.q_proj.base_layer.weight\n",
      "base_model.model.model.layers.15.self_attn.q_proj.lora_A.default.weight\n",
      "base_model.model.model.layers.15.self_attn.q_proj.lora_B.default.weight\n",
      "base_model.model.model.layers.15.self_attn.k_proj.base_layer.weight\n",
      "base_model.model.model.layers.15.self_attn.k_proj.lora_A.default.weight\n",
      "base_model.model.model.layers.15.self_attn.k_proj.lora_B.default.weight\n",
      "base_model.model.model.layers.15.self_attn.v_proj.base_layer.weight\n",
      "base_model.model.model.layers.15.self_attn.v_proj.lora_A.default.weight\n",
      "base_model.model.model.layers.15.self_attn.v_proj.lora_B.default.weight\n",
      "base_model.model.model.layers.15.self_attn.o_proj.weight\n",
      "base_model.model.model.layers.15.mlp.gate_proj.weight\n",
      "base_model.model.model.layers.15.mlp.up_proj.base_layer.weight\n",
      "base_model.model.model.layers.15.mlp.up_proj.lora_A.default.weight\n",
      "base_model.model.model.layers.15.mlp.up_proj.lora_B.default.weight\n",
      "base_model.model.model.layers.15.mlp.down_proj.base_layer.weight\n",
      "base_model.model.model.layers.15.mlp.down_proj.lora_A.default.weight\n",
      "base_model.model.model.layers.15.mlp.down_proj.lora_B.default.weight\n",
      "base_model.model.model.layers.15.input_layernorm.weight\n",
      "base_model.model.model.layers.15.post_attention_layernorm.weight\n",
      "base_model.model.model.norm.weight\n"
     ]
    }
   ],
   "source": [
    "for n, p in peft_model.named_parameters():\n",
    "    print(n)"
   ]
  },
  {
   "cell_type": "markdown",
   "metadata": {},
   "source": [
    "### Dataset prep"
   ]
  },
  {
   "cell_type": "code",
   "execution_count": 5,
   "metadata": {
    "execution": {
     "iopub.execute_input": "2025-10-27T12:37:43.014541Z",
     "iopub.status.busy": "2025-10-27T12:37:43.013761Z",
     "iopub.status.idle": "2025-10-27T12:37:43.063369Z",
     "shell.execute_reply": "2025-10-27T12:37:43.062744Z",
     "shell.execute_reply.started": "2025-10-27T12:37:43.014514Z"
    },
    "trusted": true
   },
   "outputs": [
    {
     "name": "stdout",
     "output_type": "stream",
     "text": [
      "Loaded 427 examples.\n"
     ]
    }
   ],
   "source": [
    "from datasets import load_from_disk, Dataset, DatasetDict\n",
    "\n",
    "ds = load_from_disk(\"/kaggle/input/dpo-dataset/dpo_dataset_checkpoint\")  # user-provided arrow dataset\n",
    "# Expect columns: prompt, completion, rejected_1, rejected_2, rejected_3\n",
    "# Convert to simple list of dicts\n",
    "records = []\n",
    "for row in ds:\n",
    "    rec = {\n",
    "        \"prompt\": row[\"prompt\"],\n",
    "        \"chosen\": row.get(\"completion\"),\n",
    "        \"rejected_1\": row.get(\"rejected_1\"),\n",
    "        \"rejected_2\": row.get(\"rejected_2\"),\n",
    "        \"rejected_3\": row.get(\"rejected_3\"),\n",
    "        \"rejected\": [row.get(\"rejected_1\"), row.get(\"rejected_2\"), row.get(\"rejected_3\"),]\n",
    "    }\n",
    "    records.append(rec)\n",
    "print(f\"Loaded {len(records)} examples.\")"
   ]
  },
  {
   "cell_type": "code",
   "execution_count": 6,
   "metadata": {
    "execution": {
     "iopub.execute_input": "2025-10-27T12:37:45.130687Z",
     "iopub.status.busy": "2025-10-27T12:37:45.130077Z",
     "iopub.status.idle": "2025-10-27T12:37:45.136017Z",
     "shell.execute_reply": "2025-10-27T12:37:45.135225Z",
     "shell.execute_reply.started": "2025-10-27T12:37:45.130662Z"
    },
    "trusted": true
   },
   "outputs": [
    {
     "data": {
      "text/plain": [
       "{'prompt': 'How about some concrete reasons to buy a computer today? An executive in your industry recently said, “We’ve given people computers, but we haven’t shown them what to do with them. I can balance my checkbook faster by hand than on my computer.” Why should a person buy a computer?',\n",
       " 'chosen': 'There are different answers for different people. In business, that question is easy to answer: You really can prepare documents much faster and at a higher quality level, and you can do many things to increase office productivity. A computer frees people from much of the menial work. Besides that, you are giving them a tool that encourages them to be creative. Remember, computers are tools. Tools help us do our work better. In education, computers are the first thing to come along since books that will sit there and interact with you endlessly, without judgment. Socratic education isn’t available anymore, and computers have the potential to be a real breakthrough in the educational process when used in conjunction with enlightened teachers. We’re in most schools already.',\n",
       " 'rejected_1': ' Because it’s easy and fun!',\n",
       " 'rejected_2': ' Because the benefits are so great! The first thing is that it makes life easier for you—things like word processing and spreadsheets—and there’s no question now about why they’re important anymore because almost everybody uses one or both of these things everyday...',\n",
       " 'rejected_3': 'Well, the first reason is that the cost of a personal computer has come down dramatically in recent years. You can now get one for less than $3000 or even less than $2000. This is really amazing. And it’s true whether you’re talking about the IBM PCjr or the Macintosh, both of which have really excellent prices these days. So it comes down to this: In most cases, buying an IBM PCjr or a Macintosh is like buying a new car and not having any money left over to put gas in the tank. But if you buy something else – say, another stereo system or some other gadgety thing – then suddenly you’ve got lots more money.',\n",
       " 'rejected': [' Because it’s easy and fun!',\n",
       "  ' Because the benefits are so great! The first thing is that it makes life easier for you—things like word processing and spreadsheets—and there’s no question now about why they’re important anymore because almost everybody uses one or both of these things everyday...',\n",
       "  'Well, the first reason is that the cost of a personal computer has come down dramatically in recent years. You can now get one for less than $3000 or even less than $2000. This is really amazing. And it’s true whether you’re talking about the IBM PCjr or the Macintosh, both of which have really excellent prices these days. So it comes down to this: In most cases, buying an IBM PCjr or a Macintosh is like buying a new car and not having any money left over to put gas in the tank. But if you buy something else – say, another stereo system or some other gadgety thing – then suddenly you’ve got lots more money.']}"
      ]
     },
     "execution_count": 6,
     "metadata": {},
     "output_type": "execute_result"
    }
   ],
   "source": [
    "records[0]"
   ]
  },
  {
   "cell_type": "code",
   "execution_count": 7,
   "metadata": {
    "execution": {
     "iopub.execute_input": "2025-10-27T12:37:48.811934Z",
     "iopub.status.busy": "2025-10-27T12:37:48.811355Z",
     "iopub.status.idle": "2025-10-27T12:40:09.089356Z",
     "shell.execute_reply": "2025-10-27T12:40:09.088549Z",
     "shell.execute_reply.started": "2025-10-27T12:37:48.811908Z"
    },
    "trusted": true
   },
   "outputs": [
    {
     "name": "stdout",
     "output_type": "stream",
     "text": [
      "Computing/caching embeddings (chosen + 3 rejects) ...\n"
     ]
    },
    {
     "name": "stderr",
     "output_type": "stream",
     "text": [
      "examples: 100%|██████████| 427/427 [02:20<00:00,  3.04it/s]"
     ]
    },
    {
     "name": "stdout",
     "output_type": "stream",
     "text": [
      "Embedding cache ready.\n"
     ]
    },
    {
     "name": "stderr",
     "output_type": "stream",
     "text": [
      "\n"
     ]
    }
   ],
   "source": [
    "import numpy as np\n",
    "from tqdm import tqdm\n",
    "from pathlib import Path\n",
    "import torch.nn.functional as F\n",
    "\n",
    "EMB_CACHE_DIR = \"./emb_cache\"\n",
    "BATCH_EMB = 4\n",
    "MAX_EMB_TOKENS = 3072\n",
    "DEVICE = torch.device(\"cuda\" if torch.cuda.is_available() else \"cpu\")\n",
    "\n",
    "os.makedirs(EMB_CACHE_DIR, exist_ok=True)\n",
    "\n",
    "def batch_texts(records, key_fn, batch_size=BATCH_EMB):\n",
    "    for i in range(0, len(records), batch_size):\n",
    "        batch = records[i:i+batch_size]\n",
    "        texts = [key_fn(r) for r in batch]\n",
    "        yield i, batch, texts\n",
    "\n",
    "@torch.no_grad()\n",
    "def embed_texts_batched(model, tokenizer, texts, max_length=MAX_EMB_TOKENS):\n",
    "    # returns tensor (len(texts), dim)\n",
    "    toks = tokenizer(texts, return_tensors=\"pt\", padding=True, truncation=True, max_length=max_length).to(DEVICE)\n",
    "    outputs = model.model(**toks, output_hidden_states=True)\n",
    "    hidden = outputs.hidden_states[-2]  # second-to-last\n",
    "    mask = toks[\"attention_mask\"].unsqueeze(-1)\n",
    "    emb = (hidden * mask).sum(dim=1) / mask.sum(dim=1)\n",
    "    emb = F.normalize(emb, dim=-1)\n",
    "    return emb.cpu()\n",
    "\n",
    "# Check cache, compute if missing\n",
    "print(\"Computing/caching embeddings (chosen + 3 rejects) ...\")\n",
    "for idx in tqdm(range(len(records)), desc=\"examples\"):\n",
    "    cfile = Path(EMB_CACHE_DIR) / f\"emb_chosen_{idx}.npy\"\n",
    "    rfiles = [Path(EMB_CACHE_DIR) / f\"emb_rej{j+1}_{idx}.npy\" for j in range(3)]\n",
    "    if cfile.exists() and all(rf.exists() for rf in rfiles):\n",
    "        continue  # cached\n",
    "\n",
    "    # build small micro-batch for this example\n",
    "    texts = [records[idx][\"chosen\"]] + records[idx][\"rejected\"]\n",
    "    # embed all at once to reduce overhead\n",
    "    emb = embed_texts_batched(ref_model, tokenizer, texts, max_length=MAX_EMB_TOKENS)  # shape (4, dim)\n",
    "    np.save(cfile, emb[0].numpy())\n",
    "    for j in range(3):\n",
    "        np.save(rfiles[j], emb[j+1].numpy())\n",
    "\n",
    "print(\"Embedding cache ready.\")"
   ]
  },
  {
   "cell_type": "code",
   "execution_count": 8,
   "metadata": {
    "execution": {
     "iopub.execute_input": "2025-10-27T12:40:09.090895Z",
     "iopub.status.busy": "2025-10-27T12:40:09.090663Z",
     "iopub.status.idle": "2025-10-27T12:40:09.954925Z",
     "shell.execute_reply": "2025-10-27T12:40:09.954127Z",
     "shell.execute_reply.started": "2025-10-27T12:40:09.090877Z"
    },
    "trusted": true
   },
   "outputs": [
    {
     "name": "stderr",
     "output_type": "stream",
     "text": [
      "Loading embeddings: 100%|██████████| 427/427 [00:00<00:00, 2230.45it/s]\n"
     ]
    },
    {
     "data": {
      "image/png": "[encoded data removed]",
      "text/plain": [
       "<Figure size 800x800 with 1 Axes>"
      ]
     },
     "metadata": {},
     "output_type": "display_data"
    }
   ],
   "source": [
    "import numpy as np\n",
    "import matplotlib.pyplot as plt\n",
    "from pathlib import Path\n",
    "from sklearn.decomposition import PCA\n",
    "from tqdm import tqdm\n",
    "\n",
    "# --- Config ---\n",
    "EMB_CACHE_DIR = \"./emb_cache\"\n",
    "NUM_EXAMPLES = 427  # adjust if needed\n",
    "reject_colors = [\"red\", \"orange\", \"yellow\"]\n",
    "chosen_color = \"green\"\n",
    "\n",
    "chosen_embs, reject_embs = [], []\n",
    "\n",
    "# --- Load all cached embeddings ---\n",
    "for idx in tqdm(range(NUM_EXAMPLES), desc=\"Loading embeddings\"):\n",
    "    cfile = Path(EMB_CACHE_DIR) / f\"emb_chosen_{idx}.npy\"\n",
    "    rfiles = [Path(EMB_CACHE_DIR) / f\"emb_rej{j+1}_{idx}.npy\" for j in range(3)]\n",
    "    if not cfile.exists() or not all(r.exists() for r in rfiles):\n",
    "        continue\n",
    "    c = np.load(cfile)\n",
    "    rs = [np.load(r) for r in rfiles]\n",
    "    chosen_embs.append(c)\n",
    "    reject_embs.append(rs)\n",
    "\n",
    "# Stack into arrays\n",
    "chosen_embs = np.stack(chosen_embs)  # (N, dim)\n",
    "reject_embs = np.stack(reject_embs)  # (N, 3, dim)\n",
    "reject_embs_flat = reject_embs.reshape(-1, reject_embs.shape[-1])  # (N*3, dim)\n",
    "\n",
    "# Combine all for PCA\n",
    "all_embs = np.concatenate([chosen_embs, reject_embs_flat], axis=0)\n",
    "pca = PCA(n_components=2)\n",
    "reduced = pca.fit_transform(all_embs)\n",
    "\n",
    "# Split back\n",
    "n_chosen = len(chosen_embs)\n",
    "chosen_2d = reduced[:n_chosen]\n",
    "reject_2d = reduced[n_chosen:].reshape(-1, 3, 2)\n",
    "\n",
    "# --- Plot ---\n",
    "plt.figure(figsize=(8, 8))\n",
    "plt.scatter(\n",
    "    chosen_2d[:, 0],\n",
    "    chosen_2d[:, 1],\n",
    "    color=chosen_color,\n",
    "    s=15,\n",
    "    alpha=0.7,\n",
    "    label=\"Chosen\"\n",
    ")\n",
    "\n",
    "for j in range(3):\n",
    "    plt.scatter(\n",
    "        reject_2d[:, j, 0],\n",
    "        reject_2d[:, j, 1],\n",
    "        color=reject_colors[j],\n",
    "        s=10,\n",
    "        alpha=0.6,\n",
    "        label=f\"Reject {j+1}\"\n",
    "    )\n",
    "\n",
    "plt.title(\"Embeddings: Chosen (Green) vs Rejects (Red/Orange/Yellow)\")\n",
    "plt.legend()\n",
    "plt.grid(True, alpha=0.2)\n",
    "plt.tight_layout()\n",
    "plt.show()\n"
   ]
  },
  {
   "cell_type": "code",
   "execution_count": null,
   "metadata": {
    "execution": {
     "iopub.execute_input": "2025-10-27T12:40:09.955872Z",
     "iopub.status.busy": "2025-10-27T12:40:09.955679Z",
     "iopub.status.idle": "2025-10-27T12:40:10.397488Z",
     "shell.execute_reply": "2025-10-27T12:40:10.396689Z",
     "shell.execute_reply.started": "2025-10-27T12:40:09.955857Z"
    },
    "trusted": true
   },
   "outputs": [
    {
     "name": "stderr",
     "output_type": "stream",
     "text": [
      "compute-lambdas: 100%|██████████| 427/427 [00:00<00:00, 986.40it/s] "
     ]
    },
    {
     "name": "stdout",
     "output_type": "stream",
     "text": [
      "Computed lambdas for all examples (first 3): [[0.08587646484375, 0.45703125, 0.45703125], [0.333251953125, 0.309326171875, 0.357421875], [0.317626953125, 0.35986328125, 0.322509765625]]\n"
     ]
    },
    {
     "name": "stderr",
     "output_type": "stream",
     "text": [
      "\n"
     ]
    }
   ],
   "source": [
    "TEMP = 0.2\n",
    "\n",
    "def load_emb(path):\n",
    "    return torch.from_numpy(np.load(path)).to(DEVICE)\n",
    "\n",
    "lambda_list = []\n",
    "for idx in tqdm(range(len(records)), desc=\"compute-lambdas\"):\n",
    "    cfile = Path(EMB_CACHE_DIR) / f\"emb_chosen_{idx}.npy\"\n",
    "    rfiles = [Path(EMB_CACHE_DIR) / f\"emb_rej{j+1}_{idx}.npy\" for j in range(3)]\n",
    "    emb_ch = load_emb(cfile)   # (D,)\n",
    "    emb_rejs = torch.stack([load_emb(p) for p in rfiles], dim=0)  # (3, D)\n",
    "    # cosine: emb_ch (D,) @ emb_rejs.T -> (3,)\n",
    "    cos = torch.matmul(emb_rejs, emb_ch)   # (3,)  (emb_rejs @ emb_ch) because both normalized\n",
    "    lambdas = F.softmax(cos / TEMP, dim=-1).cpu().numpy().tolist()\n",
    "    lambda_list.append(lambdas)\n",
    "\n",
    "# attach lambdas to records\n",
    "for r, lam in zip(records, lambda_list):\n",
    "    r[\"lambda_weights\"] = lam\n",
    "\n",
    "print(\"Computed lambdas for all examples (first 3):\", lambda_list[:3])"
   ]
  },
  {
   "cell_type": "code",
   "execution_count": null,
   "metadata": {
    "execution": {
     "iopub.execute_input": "2025-10-27T12:43:53.894926Z",
     "iopub.status.busy": "2025-10-27T12:43:53.894629Z",
     "iopub.status.idle": "2025-10-27T12:43:53.913430Z",
     "shell.execute_reply": "2025-10-27T12:43:53.912752Z",
     "shell.execute_reply.started": "2025-10-27T12:43:53.894908Z"
    },
    "trusted": true
   },
   "outputs": [],
   "source": [
    "def preprocess(records, lambda_list):\n",
    "    processed = []\n",
    "    for r, lambdas in zip(records, lambda_list):\n",
    "        prompt = r[\"prompt\"]\n",
    "        chosen = r[\"chosen\"]\n",
    "        rejects = [r[\"rejected_1\"], r[\"rejected_2\"], r[\"rejected_3\"]]\n",
    "\n",
    "        processed.append({\n",
    "            \"prompt\": prompt,\n",
    "            \"chosen_text\": prompt + chosen,\n",
    "            \"reject_texts\": [prompt + rej for rej in rejects],\n",
    "            \"lambdas\": torch.tensor(lambdas, dtype=torch.float32),\n",
    "        })\n",
    "    return processed\n",
    "\n",
    "\n",
    "class MultiRejectDPODataset(Dataset):\n",
    "    def __init__(self, processed_records):\n",
    "        self.records = processed_records\n",
    "\n",
    "    def __len__(self):\n",
    "        return len(self.records)\n",
    "\n",
    "    def __getitem__(self, idx):\n",
    "        return self.records[idx]\n",
    "\n",
    "def collate_fn(batch):\n",
    "    chosens = [b[\"chosen_text\"] for b in batch]\n",
    "    rejects = [b[\"reject_texts\"] for b in batch]\n",
    "    lambdas = torch.stack([b[\"lambdas\"] for b in batch])\n",
    "\n",
    "    tokenized = tokenizer(\n",
    "        chosens + sum(rejects, []),\n",
    "        padding=True,\n",
    "        truncation=True,\n",
    "        max_length=512,\n",
    "        return_tensors=\"pt\"\n",
    "    )\n",
    "\n",
    "    batch_size = len(chosens)\n",
    "    chosen_input = {k: v[:batch_size] for k, v in tokenized.items()}\n",
    "    reject_input = {\n",
    "        k: v[batch_size:].view(batch_size, 3, -1) for k, v in tokenized.items()\n",
    "    }\n",
    "\n",
    "    return {\n",
    "        \"chosen\": chosen_input,\n",
    "        \"reject\": reject_input,\n",
    "        \"lambdas\": lambdas,\n",
    "    }\n",
    "\n",
    "processed_records = preprocess(records, lambda_list)\n",
    "dataset = MultiRejectDPODataset(processed_records)\n",
    "train_loader = DataLoader(dataset, batch_size=2, shuffle=True, collate_fn=collate_fn)"
   ]
  },
  {
   "cell_type": "code",
   "execution_count": 12,
   "metadata": {
    "execution": {
     "iopub.execute_input": "2025-10-27T12:44:00.730748Z",
     "iopub.status.busy": "2025-10-27T12:44:00.730466Z",
     "iopub.status.idle": "2025-10-27T12:44:00.744897Z",
     "shell.execute_reply": "2025-10-27T12:44:00.744168Z",
     "shell.execute_reply.started": "2025-10-27T12:44:00.730727Z"
    },
    "trusted": true
   },
   "outputs": [
    {
     "data": {
      "text/plain": [
       "{'prompt': 'How about some concrete reasons to buy a computer today? An executive in your industry recently said, “We’ve given people computers, but we haven’t shown them what to do with them. I can balance my checkbook faster by hand than on my computer.” Why should a person buy a computer?',\n",
       " 'chosen_text': 'How about some concrete reasons to buy a computer today? An executive in your industry recently said, “We’ve given people computers, but we haven’t shown them what to do with them. I can balance my checkbook faster by hand than on my computer.” Why should a person buy a computer?There are different answers for different people. In business, that question is easy to answer: You really can prepare documents much faster and at a higher quality level, and you can do many things to increase office productivity. A computer frees people from much of the menial work. Besides that, you are giving them a tool that encourages them to be creative. Remember, computers are tools. Tools help us do our work better. In education, computers are the first thing to come along since books that will sit there and interact with you endlessly, without judgment. Socratic education isn’t available anymore, and computers have the potential to be a real breakthrough in the educational process when used in conjunction with enlightened teachers. We’re in most schools already.',\n",
       " 'reject_texts': ['How about some concrete reasons to buy a computer today? An executive in your industry recently said, “We’ve given people computers, but we haven’t shown them what to do with them. I can balance my checkbook faster by hand than on my computer.” Why should a person buy a computer? Because it’s easy and fun!',\n",
       "  'How about some concrete reasons to buy a computer today? An executive in your industry recently said, “We’ve given people computers, but we haven’t shown them what to do with them. I can balance my checkbook faster by hand than on my computer.” Why should a person buy a computer? Because the benefits are so great! The first thing is that it makes life easier for you—things like word processing and spreadsheets—and there’s no question now about why they’re important anymore because almost everybody uses one or both of these things everyday...',\n",
       "  'How about some concrete reasons to buy a computer today? An executive in your industry recently said, “We’ve given people computers, but we haven’t shown them what to do with them. I can balance my checkbook faster by hand than on my computer.” Why should a person buy a computer?Well, the first reason is that the cost of a personal computer has come down dramatically in recent years. You can now get one for less than $3000 or even less than $2000. This is really amazing. And it’s true whether you’re talking about the IBM PCjr or the Macintosh, both of which have really excellent prices these days. So it comes down to this: In most cases, buying an IBM PCjr or a Macintosh is like buying a new car and not having any money left over to put gas in the tank. But if you buy something else – say, another stereo system or some other gadgety thing – then suddenly you’ve got lots more money.'],\n",
       " 'lambdas': tensor([0.0859, 0.4570, 0.4570])}"
      ]
     },
     "execution_count": 12,
     "metadata": {},
     "output_type": "execute_result"
    }
   ],
   "source": [
    "dataset[0]"
   ]
  },
  {
   "cell_type": "markdown",
   "metadata": {},
   "source": [
    "### Training"
   ]
  },
  {
   "cell_type": "code",
   "execution_count": null,
   "metadata": {
    "execution": {
     "iopub.execute_input": "2025-10-27T12:47:36.164422Z",
     "iopub.status.busy": "2025-10-27T12:47:36.163866Z",
     "iopub.status.idle": "2025-10-27T13:03:40.249089Z",
     "shell.execute_reply": "2025-10-27T13:03:40.248277Z",
     "shell.execute_reply.started": "2025-10-27T12:47:36.164396Z"
    },
    "trusted": true
   },
   "outputs": [
    {
     "data": {
      "text/html": [
       "Tracking run with wandb version 0.21.0"
      ],
      "text/plain": [
       "<IPython.core.display.HTML object>"
      ]
     },
     "metadata": {},
     "output_type": "display_data"
    },
    {
     "data": {
      "text/html": [
       "Run data is saved locally in <code>/kaggle/working/wandb/run-20251027_124736-gs99cwho</code>"
      ],
      "text/plain": [
       "<IPython.core.display.HTML object>"
      ]
     },
     "metadata": {},
     "output_type": "display_data"
    },
    {
     "data": {
      "text/html": [
       "Syncing run <strong><a href='https://wandb.ai/grasgor10-/multi-reject-dpo/runs/gs99cwho' target=\"_blank\">llama3.2-lora-dpo</a></strong> to <a href='https://wandb.ai/grasgor10-/multi-reject-dpo' target=\"_blank\">Weights & Biases</a> (<a href='https://wandb.me/developer-guide' target=\"_blank\">docs</a>)<br>"
      ],
      "text/plain": [
       "<IPython.core.display.HTML object>"
      ]
     },
     "metadata": {},
     "output_type": "display_data"
    },
    {
     "data": {
      "text/html": [
       " View project at <a href='https://wandb.ai/grasgor10-/multi-reject-dpo' target=\"_blank\">https://wandb.ai/grasgor10-/multi-reject-dpo</a>"
      ],
      "text/plain": [
       "<IPython.core.display.HTML object>"
      ]
     },
     "metadata": {},
     "output_type": "display_data"
    },
    {
     "data": {
      "text/html": [
       " View run at <a href='https://wandb.ai/grasgor10-/multi-reject-dpo/runs/gs99cwho' target=\"_blank\">https://wandb.ai/grasgor10-/multi-reject-dpo/runs/gs99cwho</a>"
      ],
      "text/plain": [
       "<IPython.core.display.HTML object>"
      ]
     },
     "metadata": {},
     "output_type": "display_data"
    },
    {
     "name": "stderr",
     "output_type": "stream",
     "text": [
      "Epoch 1:   0%|          | 0/214 [00:00<?, ?it/s]`use_cache=True` is incompatible with gradient checkpointing. Setting `use_cache=False`.\n",
      "Epoch 1: 100%|██████████| 214/214 [15:56<00:00,  4.47s/it, loss=0.0897]"
     ]
    },
    {
     "name": "stdout",
     "output_type": "stream",
     "text": [
      "✅ Training complete with multi-reject DPO (LoRA policy vs frozen ref model)\n"
     ]
    },
    {
     "name": "stderr",
     "output_type": "stream",
     "text": [
      "\n"
     ]
    },
    {
     "data": {
      "text/html": [],
      "text/plain": [
       "<IPython.core.display.HTML object>"
      ]
     },
     "metadata": {},
     "output_type": "display_data"
    },
    {
     "data": {
      "text/html": [
       "<br>    <style><br>        .wandb-row {<br>            display: flex;<br>            flex-direction: row;<br>            flex-wrap: wrap;<br>            justify-content: flex-start;<br>            width: 100%;<br>        }<br>        .wandb-col {<br>            display: flex;<br>            flex-direction: column;<br>            flex-basis: 100%;<br>            flex: 1;<br>            padding: 10px;<br>        }<br>    </style><br><div class=\"wandb-row\"><div class=\"wandb-col\"><h3>Run history:</h3><br/><table class=\"wandb\"><tr><td>train/epoch</td><td>▁▁▁▁▁▁▁▁▁▁▁▁▁▁▁▁▁▁▁▁▁▁▁▁▁▁▁▁▁▁▁▁▁▁▁▁▁▁▁▁</td></tr><tr><td>train/loss</td><td>▇▇▆▆▆▄▄▂▅▃▁▂▆▃▆▃▃▃▁▁▂▁▂▁▄▂▂▁▁█▃▂▂▂▂▁▁▁▂▁</td></tr><tr><td>train/lr</td><td>▁▁▁▁▁▁▁▁▁▁▁▁▁▁▁▁▁▁▁▁▁▁▁▁▁▁▁▁▁▁▁▁▁▁▁▁▁▁▁▁</td></tr><tr><td>train/step</td><td>▁▁▁▂▂▂▂▂▂▂▂▂▃▃▃▃▃▄▄▄▄▄▄▅▅▅▅▅▅▅▆▆▆▆▆▇▇▇██</td></tr></table><br/></div><div class=\"wandb-col\"><h3>Run summary:</h3><br/><table class=\"wandb\"><tr><td>train/epoch</td><td>0</td></tr><tr><td>train/loss</td><td>0.08967</td></tr><tr><td>train/lr</td><td>1e-05</td></tr><tr><td>train/step</td><td>214</td></tr></table><br/></div></div>"
      ],
      "text/plain": [
       "<IPython.core.display.HTML object>"
      ]
     },
     "metadata": {},
     "output_type": "display_data"
    },
    {
     "data": {
      "text/html": [
       " View run <strong style=\"color:#cdcd00\">llama3.2-lora-dpo</strong> at: <a href='https://wandb.ai/grasgor10-/multi-reject-dpo/runs/gs99cwho' target=\"_blank\">https://wandb.ai/grasgor10-/multi-reject-dpo/runs/gs99cwho</a><br> View project at: <a href='https://wandb.ai/grasgor10-/multi-reject-dpo' target=\"_blank\">https://wandb.ai/grasgor10-/multi-reject-dpo</a><br>Synced 5 W&B file(s), 0 media file(s), 0 artifact file(s) and 0 other file(s)"
      ],
      "text/plain": [
       "<IPython.core.display.HTML object>"
      ]
     },
     "metadata": {},
     "output_type": "display_data"
    },
    {
     "data": {
      "text/html": [
       "Find logs at: <code>./wandb/run-20251027_124736-gs99cwho/logs</code>"
      ],
      "text/plain": [
       "<IPython.core.display.HTML object>"
      ]
     },
     "metadata": {},
     "output_type": "display_data"
    }
   ],
   "source": [
    "import torch.nn.functional as F\n",
    "\n",
    "def compute_logp(model, input_ids, attention_mask):\n",
    "    outputs = model(input_ids=input_ids, attention_mask=attention_mask)\n",
    "    log_probs = F.log_softmax(outputs.logits, dim=-1)\n",
    "    shift_input_ids = input_ids[:, 1:]\n",
    "    shift_log_probs = log_probs[:, :-1, :]\n",
    "    token_logp = shift_log_probs.gather(2, shift_input_ids.unsqueeze(-1)).squeeze(-1)\n",
    "    seq_logp = (token_logp * attention_mask[:, 1:]).sum(dim=1)\n",
    "    return seq_logp\n",
    "\n",
    "\n",
    "def multi_reject_dpo_loss(policy_model, ref_model, batch, beta=0.1):\n",
    "    chosen_ids = batch[\"chosen\"][\"input_ids\"].to(device)\n",
    "    chosen_mask = batch[\"chosen\"][\"attention_mask\"].to(device)\n",
    "    reject_ids = batch[\"reject\"][\"input_ids\"].to(device)\n",
    "    reject_mask = batch[\"reject\"][\"attention_mask\"].to(device)\n",
    "    lambdas = batch[\"lambdas\"].to(device)  # (batch, 3)\n",
    "\n",
    "    # Log-probabilities\n",
    "    logp_chosen_policy = compute_logp(policy_model, chosen_ids, chosen_mask)\n",
    "    logp_chosen_ref    = compute_logp(ref_model, chosen_ids, chosen_mask)\n",
    "    logp_reject_policy = torch.stack(\n",
    "        [compute_logp(policy_model, reject_ids[:, i, :], reject_mask[:, i, :]) for i in range(3)],\n",
    "        dim=1\n",
    "    )\n",
    "    logp_reject_ref = torch.stack(\n",
    "        [compute_logp(ref_model, reject_ids[:, i, :], reject_mask[:, i, :]) for i in range(3)],\n",
    "        dim=1\n",
    "    )\n",
    "\n",
    "    # Weighted average per example\n",
    "    avg_reject_policy = (lambdas * logp_reject_policy).sum(dim=1)\n",
    "    avg_reject_ref    = (lambdas * logp_reject_ref).sum(dim=1)\n",
    "\n",
    "    delta = (logp_chosen_policy - logp_chosen_ref) - (avg_reject_policy - avg_reject_ref)\n",
    "    loss = -torch.log(torch.sigmoid(beta * delta))\n",
    "    return loss.mean()\n",
    "\n",
    "\n",
    "import wandb\n",
    "from tqdm import tqdm\n",
    "\n",
    "# Initialize Weights & Biases run\n",
    "wandb.init(\n",
    "    project=\"multi-reject-dpo\",\n",
    "    name=\"llama3.2-lora-dpo\",\n",
    "    config={\n",
    "        \"learning_rate\": 1e-5,\n",
    "        \"beta\": 0.1,\n",
    "        \"epochs\": 1,\n",
    "        \"batch_size\": train_loader.batch_size,\n",
    "        \"model\": \"llama3.2 + LoRA\",\n",
    "        \"dpo_variant\": \"averaged_multi_reject\",\n",
    "    },\n",
    ")\n",
    "\n",
    "# Freeze all except LoRA\n",
    "for name, param in peft_model.named_parameters():\n",
    "    param.requires_grad = (\"lora_\" in name)\n",
    "\n",
    "optimizer = torch.optim.AdamW(\n",
    "    [p for p in peft_model.parameters() if p.requires_grad],\n",
    "    lr=1e-5,\n",
    ")\n",
    "\n",
    "num_epochs = 1\n",
    "beta = 0.1\n",
    "\n",
    "peft_model.train()\n",
    "global_step = 0\n",
    "for epoch in range(num_epochs):\n",
    "    pbar = tqdm(train_loader, desc=f\"Epoch {epoch+1}\")\n",
    "    for batch in pbar:\n",
    "        optimizer.zero_grad()\n",
    "        loss = multi_reject_dpo_loss(peft_model, ref_model, batch, beta=beta)\n",
    "        loss.backward()\n",
    "        optimizer.step()\n",
    "\n",
    "        global_step += 1\n",
    "        wandb.log({\n",
    "            \"train/loss\": loss.item(),\n",
    "            \"train/epoch\": epoch,\n",
    "            \"train/step\": global_step,\n",
    "            \"train/lr\": optimizer.param_groups[0][\"lr\"],\n",
    "        })\n",
    "\n",
    "        pbar.set_postfix({\"loss\": f\"{loss.item():.4f}\"})\n",
    "\n",
    "    # optional: checkpoint or evaluation hooks per epoch\n",
    "    torch.cuda.empty_cache()\n",
    "\n",
    "print(\"Training complete with multi-reject DPO (LoRA policy vs frozen ref model)\")\n",
    "\n",
    "wandb.finish()\n"
   ]
  },
  {
   "cell_type": "code",
   "execution_count": null,
   "metadata": {
    "execution": {
     "iopub.execute_input": "2025-10-27T13:03:54.077415Z",
     "iopub.status.busy": "2025-10-27T13:03:54.077147Z",
     "iopub.status.idle": "2025-10-27T13:03:54.194735Z",
     "shell.execute_reply": "2025-10-27T13:03:54.194052Z",
     "shell.execute_reply.started": "2025-10-27T13:03:54.077397Z"
    },
    "trusted": true
   },
   "outputs": [
    {
     "name": "stdout",
     "output_type": "stream",
     "text": [
      "✅ DPO fine-tuned adapters saved at ./llama3.2_jobs_dpo_custom\n"
     ]
    }
   ],
   "source": [
    "SAVE_SAFE_DIR = \"./llama3.2_jobs_dpo_custom\"\n",
    "os.makedirs(SAVE_SAFE_DIR, exist_ok=True)\n",
    "all_finite = True\n",
    "for n, p in peft_model.named_parameters():\n",
    "    if p.requires_grad and (torch.isnan(p).any() or torch.isinf(p).any()):\n",
    "        print(f\"Cannot save: parameter {n} contains NaN/Inf\")\n",
    "        all_finite = False\n",
    "        break\n",
    "\n",
    "if all_finite:\n",
    "    save_dir = SAVE_SAFE_DIR\n",
    "    os.makedirs(save_dir, exist_ok=True)\n",
    "    peft_model.save_pretrained(save_dir)\n",
    "    print(f\"✅ DPO fine-tuned adapters saved at {save_dir}\")\n",
    "else:\n",
    "    print(\"Adapters not saved because model contains NaNs/Infs. You can restore last_safe_snapshot manually if needed.\")\n"
   ]
  },
  {
   "cell_type": "markdown",
   "metadata": {},
   "source": [
    "## Save Merged Model"
   ]
  },
  {
   "cell_type": "code",
   "execution_count": 20,
   "metadata": {
    "execution": {
     "iopub.execute_input": "2025-10-27T13:06:39.481080Z",
     "iopub.status.busy": "2025-10-27T13:06:39.480334Z",
     "iopub.status.idle": "2025-10-27T13:07:07.742445Z",
     "shell.execute_reply": "2025-10-27T13:07:07.741647Z",
     "shell.execute_reply.started": "2025-10-27T13:06:39.481053Z"
    },
    "trusted": true
   },
   "outputs": [
    {
     "data": {
      "application/vnd.jupyter.widget-view+json": {
       "model_id": "9ed93298f3d740828970e5f2736985e6",
       "version_major": 2,
       "version_minor": 0
      },
      "text/plain": [
       "tokenizer_config.json:   0%|          | 0.00/50.5k [00:00<?, ?B/s]"
      ]
     },
     "metadata": {},
     "output_type": "display_data"
    },
    {
     "data": {
      "application/vnd.jupyter.widget-view+json": {
       "model_id": "fc7beec2dda34c2e8b85968da5255acd",
       "version_major": 2,
       "version_minor": 0
      },
      "text/plain": [
       "tokenizer.json:   0%|          | 0.00/9.09M [00:00<?, ?B/s]"
      ]
     },
     "metadata": {},
     "output_type": "display_data"
    },
    {
     "data": {
      "application/vnd.jupyter.widget-view+json": {
       "model_id": "d40691a1836d41848d9a1d536ca31d46",
       "version_major": 2,
       "version_minor": 0
      },
      "text/plain": [
       "special_tokens_map.json:   0%|          | 0.00/301 [00:00<?, ?B/s]"
      ]
     },
     "metadata": {},
     "output_type": "display_data"
    },
    {
     "data": {
      "application/vnd.jupyter.widget-view+json": {
       "model_id": "a844e1599e994ceeaba10158d5676769",
       "version_major": 2,
       "version_minor": 0
      },
      "text/plain": [
       "config.json:   0%|          | 0.00/843 [00:00<?, ?B/s]"
      ]
     },
     "metadata": {},
     "output_type": "display_data"
    },
    {
     "name": "stderr",
     "output_type": "stream",
     "text": [
      "`torch_dtype` is deprecated! Use `dtype` instead!\n"
     ]
    },
    {
     "data": {
      "application/vnd.jupyter.widget-view+json": {
       "model_id": "bb09b56d58a940d38a072be0dfa817ee",
       "version_major": 2,
       "version_minor": 0
      },
      "text/plain": [
       "model.safetensors:   0%|          | 0.00/2.47G [00:00<?, ?B/s]"
      ]
     },
     "metadata": {},
     "output_type": "display_data"
    },
    {
     "data": {
      "application/vnd.jupyter.widget-view+json": {
       "model_id": "402dc7afc25441e7ae8d3898d837a7ef",
       "version_major": 2,
       "version_minor": 0
      },
      "text/plain": [
       "generation_config.json:   0%|          | 0.00/185 [00:00<?, ?B/s]"
      ]
     },
     "metadata": {},
     "output_type": "display_data"
    },
    {
     "data": {
      "text/plain": [
       "('./llama3.2-jobs-dpo-custom-merged/tokenizer_config.json',\n",
       " './llama3.2-jobs-dpo-custom-merged/special_tokens_map.json',\n",
       " './llama3.2-jobs-dpo-custom-merged/tokenizer.json')"
      ]
     },
     "execution_count": 20,
     "metadata": {},
     "output_type": "execute_result"
    }
   ],
   "source": [
    "from transformers import AutoModelForCausalLM, AutoTokenizer\n",
    "from peft import PeftModel\n",
    "import os\n",
    "os.environ[\"CUDA_LAUNCH_BLOCKING\"] = \"1\"\n",
    "\n",
    "# Load base model in FP16 (recommended for merging)\n",
    "base_model_name = \"meta-llama/Llama-3.2-1B\"\n",
    "tokenizer = AutoTokenizer.from_pretrained(base_model_name)\n",
    "tokenizer.pad_token = tokenizer.eos_token\n",
    "\n",
    "model = AutoModelForCausalLM.from_pretrained(\n",
    "    base_model_name,\n",
    "    device_map=\"auto\",\n",
    "    torch_dtype=\"auto\"\n",
    ")\n",
    "\n",
    "# Load your SFT-trained LoRA adapter\n",
    "model = PeftModel.from_pretrained(model, \"/kaggle/working/llama3.2_jobs_dpo_custom\")\n",
    "\n",
    "# Merge LoRA weights into base model\n",
    "model = model.merge_and_unload()\n",
    "\n",
    "# Save merged model and tokenizer\n",
    "save_dir = \"./llama3.2-jobs-dpo-custom-merged\"\n",
    "model.save_pretrained(save_dir)\n",
    "tokenizer.save_pretrained(save_dir)\n"
   ]
  },
  {
   "cell_type": "markdown",
   "metadata": {},
   "source": [
    "## DPO Model Inference"
   ]
  },
  {
   "cell_type": "code",
   "execution_count": 19,
   "metadata": {
    "execution": {
     "iopub.execute_input": "2025-10-27T13:06:13.253241Z",
     "iopub.status.busy": "2025-10-27T13:06:13.252941Z",
     "iopub.status.idle": "2025-10-27T13:06:17.599310Z",
     "shell.execute_reply": "2025-10-27T13:06:17.598493Z",
     "shell.execute_reply.started": "2025-10-27T13:06:13.253220Z"
    },
    "trusted": true
   },
   "outputs": [
    {
     "name": "stderr",
     "output_type": "stream",
     "text": [
      "Device set to use cuda:0\n"
     ]
    },
    {
     "name": "stdout",
     "output_type": "stream",
     "text": [
      "I think they are. I was in that business, though; I ran my own companies for about 10 years after university. In some ways, it is more difficult to be an entrepreneur than a manager. You have to take on all of these responsibilities as well: marketing, finance, operations--you know, everything. And you also need to learn how to run large organizations. All those skills just didn't exist at Harvard Business School. So I had to go out and do both.\n"
     ]
    }
   ],
   "source": [
    "from transformers import pipeline\n",
    "\n",
    "pipe = pipeline(\"text-generation\", model=\"/kaggle/working/llama3.2_jobs_dpo_custom\", tokenizer=tokenizer, return_full_text=False)\n",
    "\n",
    "prompt = \"Is there an inevitable break between being an entrepreneur and a businessman? Are the people who get things going different?\"\n",
    "\n",
    "result = pipe(\n",
    "    prompt,\n",
    "    max_new_tokens=3072,\n",
    "    temperature=0.8,\n",
    "    do_sample=True,\n",
    "    top_k=50,                  \n",
    "    top_p=0.9,                 \n",
    "    repetition_penalty=1.2     \n",
    ")\n",
    "print(result[0][\"generated_text\"])\n"
   ]
  },
  {
   "cell_type": "code",
   "execution_count": 21,
   "metadata": {
    "execution": {
     "iopub.execute_input": "2025-10-27T13:07:50.296393Z",
     "iopub.status.busy": "2025-10-27T13:07:50.295744Z",
     "iopub.status.idle": "2025-10-27T13:07:52.307623Z",
     "shell.execute_reply": "2025-10-27T13:07:52.306976Z",
     "shell.execute_reply.started": "2025-10-27T13:07:50.296355Z"
    },
    "trusted": true
   },
   "outputs": [
    {
     "name": "stdout",
     "output_type": "stream",
     "text": [
      "It’s the only tool that has the ability and power of IBM 360s, Apple IIIs, Macintoshes combined. It lets you take an idea from conception to production. And it is fun. You have to use one for that.\n"
     ]
    }
   ],
   "source": [
    "prompt = \"How about some concrete reasons to buy a computer today? An executive in your industry recently said, “We’ve given people computers, but we haven’t shown them what to do with them. I can balance my checkbook faster by hand than on my computer.” Why should a person buy a computer?\"\n",
    "\n",
    "result = pipe(\n",
    "    prompt,\n",
    "    max_new_tokens=3072,\n",
    "    temperature=0.8,\n",
    "    do_sample=True,\n",
    "    top_k=50,                  \n",
    "    top_p=0.9,                 \n",
    "    repetition_penalty=1.2     \n",
    ")\n",
    "print(result[0][\"generated_text\"])"
   ]
  }
 ],
 "metadata": {
  "kaggle": {
   "accelerator": "gpu",
   "dataSources": [
    {
     "databundleVersionId": 14237454,
     "datasetId": 8580448,
     "sourceId": 13514420,
     "sourceType": "datasetVersion"
    },
    {
     "databundleVersionId": 14239475,
     "datasetId": 8581805,
     "sourceId": 13516271,
     "sourceType": "datasetVersion"
    },
    {
     "databundleVersionId": 14140460,
     "modelInstanceId": 460260,
     "sourceId": 612666,
     "sourceType": "modelInstanceVersion"
    },
    {
     "databundleVersionId": 14229114,
     "modelInstanceId": 466270,
     "sourceId": 619872,
     "sourceType": "modelInstanceVersion"
    },
    {
     "sourceId": 271285785,
     "sourceType": "kernelVersion"
    }
   ],
   "dockerImageVersionId": 31153,
   "isGpuEnabled": true,
   "isInternetEnabled": true,
   "language": "python",
   "sourceType": "notebook"
  },
  "kernelspec": {
   "display_name": "Python 3",
   "language": "python",
   "name": "python3"
  },
  "language_info": {
   "codemirror_mode": {
    "name": "ipython",
    "version": 3
   },
   "file_extension": ".py",
   "mimetype": "text/x-python",
   "name": "python",
   "nbconvert_exporter": "python",
   "pygments_lexer": "ipython3",
   "version": "3.11.13"
  }
 },
 "nbformat": 4,
 "nbformat_minor": 4
}
